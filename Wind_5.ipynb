{
  "nbformat": 4,
  "nbformat_minor": 0,
  "metadata": {
    "colab": {
      "name": "Wind-5.ipynb",
      "provenance": [],
      "collapsed_sections": []
    },
    "kernelspec": {
      "name": "python3",
      "display_name": "Python 3"
    }
  },
  "cells": [
    {
      "cell_type": "markdown",
      "metadata": {
        "id": "VN6EQfKg6p_e",
        "colab_type": "text"
      },
      "source": [
        "**WIND ENERGY**\n",
        "\n",
        "**THE SKY IS THE LIMIT**"
      ]
    },
    {
      "cell_type": "markdown",
      "metadata": {
        "id": "hNzZIyPkKW9p",
        "colab_type": "text"
      },
      "source": [
        "Renewable energy has become critical to our planet. \n",
        "Just think of CO2 emissions and depletion of non-renewable energy sources like oil. \n",
        "\n",
        "It’s estimated that by 2050 Solar and Wind energy may supply up to 2/3 of the world’s energy needs. \n",
        "\n",
        "Wind energy “will surge from today’s 7% to 26% in thirty years\n",
        "\n",
        "From an economic perspective, wind power...estimated investments of over 5 trillion dollars..\n",
        "\n",
        "https://www.enelgreenpower.com/media/news/d/2019/07/bloomberg-new-energy-outlook-2019\n",
        "\n",
        " This project addresses a significant dimension of the Wind Energy Universe.\n"
      ]
    },
    {
      "cell_type": "markdown",
      "metadata": {
        "id": "5hXuqRS1ftVJ",
        "colab_type": "text"
      },
      "source": [
        "THE PRIMARY COMPONENTS OF A WIND FARM:\n",
        "\n",
        "1 - LOCATION\n",
        "\n",
        "2 - PROPOSAL\n",
        "\n",
        "3 - FINANCING\n",
        "\n",
        "4- PURCHASE POWER AGREEMENT"
      ]
    },
    {
      "cell_type": "markdown",
      "metadata": {
        "id": "-EKxFAWQjhfc",
        "colab_type": "text"
      },
      "source": [
        "THIS PROJECT IS A SUB-CATEGORY OF ITEMS ONE AND TWO\n",
        "\n",
        "ITEMS THREE AND FOUR ARE BEYOND THE SCOPE OF THIS PROJECT"
      ]
    },
    {
      "cell_type": "markdown",
      "metadata": {
        "id": "N8baicOEvy5g",
        "colab_type": "text"
      },
      "source": [
        "THIS PROJECT WILL BE OF SPECIAL INTEREST TO INDIVDUALS CONSIDERING AN INVESTMENT IN A WIND FARM \n",
        "\n",
        "AND COMMUNITES CONSIDERING ESTABLISHING THEIR OWN WIND FARM "
      ]
    },
    {
      "cell_type": "markdown",
      "metadata": {
        "colab_type": "text",
        "id": "frKr2rrETiJM"
      },
      "source": [
        "\n",
        "\n",
        "THE PRIMARY METRIC FOR ANY ENERGY SOURCE  --  WIND, SOLAR, HYDROELECTRIC, COAL ETC. IS ITS **ENERGY CONVERSION EFFICIENCY**\n",
        "\n",
        "FOR WIND ENERGY THIS IS DEFINED AS THE **MEAN CAPACITY FACTOR**\n",
        "\n",
        "Capacity factor:  The ratio of the electrical energy produced by a generating unit for the period of time considered to the electrical energy that could have been produced at continuous full power operation during the same period.\n",
        "\n",
        "WHAT PERCENT OF THE MAXIMUM POWER RATING FOR EACH TURBINE THAT IS ACTUALLY REALIZED?\n",
        "\n",
        "WE KNOW IT CAN NEVER BE 100% BECAUSE WIND IS INTERMITENT  -- IN BOTH INTENSITY AND DURATION\n"
      ]
    },
    {
      "cell_type": "markdown",
      "metadata": {
        "id": "dzSabGGJk1GW",
        "colab_type": "text"
      },
      "source": [
        "My primary source of data is The U.S. Wind Turbine Database\n",
        "\n",
        "https://eerscmap.usgs.gov/uswtdb/data/U.S. \n",
        "\n",
        "They maintain detailed information on every wind turbine in the USA + Guam+ Puerto Rico – all **60,577** of them. \n",
        "\n",
        "Data includes GPS coordinates, turbine max capacity, date installed, turbine manufacturer, height etc.\n",
        "\n",
        " The only thing missing is the mean capacity factor for each turbine.\n",
        "\n",
        "This can be calculated using Renewables.ninja\n",
        "\n",
        "https://www.renewables.ninja/\n",
        "\n",
        "\n"
      ]
    },
    {
      "cell_type": "markdown",
      "metadata": {
        "id": "lPsHduBalZOt",
        "colab_type": "text"
      },
      "source": [
        "FOR THIS PROJECT I WILL RANDOMLY SELECT 60 WIND TURBINES\n",
        "\n",
        "30 IN NORTHEN CALIFORNIA  30 IN SOUTHERN CALIFORNIA\n",
        "\n",
        "I WILL THEN COMPUTE THE MEAN CAPACITY FACTOR FOR EACH TURBINE\n",
        "\n",
        "My hypothesis is that there is a statistically significant difference between mean aggregate capacity factor for the northern turbines and the mean aggregate capacity factor for the southern turbines. \n",
        "\n",
        "The null, of course, being that there is no difference.\n",
        "\n"
      ]
    },
    {
      "cell_type": "code",
      "metadata": {
        "id": "BSKHoV2sMrQV",
        "colab_type": "code",
        "colab": {}
      },
      "source": [
        "%matplotlib inline\n",
        "import pandas as pd\n",
        "import numpy as np\n",
        "import matplotlib.pyplot as plt\n",
        "from scipy import stats\n",
        "from scipy.stats import ks_2samp\n",
        "import seaborn as sns\n",
        "import random\n",
        "from google.colab import files\n",
        "from IPython.display import Image"
      ],
      "execution_count": 0,
      "outputs": []
    },
    {
      "cell_type": "markdown",
      "metadata": {
        "id": "kXh-6tfSxKn6",
        "colab_type": "text"
      },
      "source": [
        "from IPython.display import Image\n",
        "Image('windmill.old.jpg')\n",
        "Image('Alta-wind-energy-sector.jpg')"
      ]
    },
    {
      "cell_type": "code",
      "metadata": {
        "id": "tYRdsm6bGJ9b",
        "colab_type": "code",
        "outputId": "0120bbe3-7b86-4cac-9f68-82ed2d9eada3",
        "colab": {
          "base_uri": "https://localhost:8080/",
          "height": 34
        }
      },
      "source": [
        "# Source:\n",
        "    # http://blog.nextgenetics.net/?e=102\n",
        "    from IPython.display import HTML\n",
        "\n",
        "    HTML('''<script>\n",
        "    code_show=true; \n",
        "    function code_toggle() {\n",
        "     if (code_show){\n",
        "     $('div.input').hide();\n",
        "     } else {\n",
        "     $('div.input').show();\n",
        "     }\n",
        "     code_show = !code_show\n",
        "    } \n",
        "    $( document ).ready(code_toggle);\n",
        "    </script>\n",
        "    The raw code for this IPython notebook is by default hidden for easier reading.\n",
        "    To toggle on/off the raw code, click <a href=\"javascript:code_toggle()\">here</a>.''')"
      ],
      "execution_count": 0,
      "outputs": [
        {
          "output_type": "execute_result",
          "data": {
            "text/html": [
              "<script>\n",
              "code_show=true; \n",
              "function code_toggle() {\n",
              " if (code_show){\n",
              " $('div.input').hide();\n",
              " } else {\n",
              " $('div.input').show();\n",
              " }\n",
              " code_show = !code_show\n",
              "} \n",
              "$( document ).ready(code_toggle);\n",
              "</script>\n",
              "The raw code for this IPython notebook is by default hidden for easier reading.\n",
              "To toggle on/off the raw code, click <a href=\"javascript:code_toggle()\">here</a>."
            ],
            "text/plain": [
              "<IPython.core.display.HTML object>"
            ]
          },
          "metadata": {
            "tags": []
          },
          "execution_count": 123
        }
      ]
    },
    {
      "cell_type": "markdown",
      "metadata": {
        "id": "oJPClYxSiLxK",
        "colab_type": "text"
      },
      "source": [
        "READ THE USGS WIND TURBINE DATASET THAT IDENTIFIES EVERY WIND TURBINE IN THE USA + PUERTO RICO + GUAM\n"
      ]
    },
    {
      "cell_type": "code",
      "metadata": {
        "id": "5omg4odtMyre",
        "colab_type": "code",
        "colab": {}
      },
      "source": [
        "wind=pd.read_csv('https://raw.githubusercontent.com/AlexBB999/Thinkful/master/wind_data.csv')"
      ],
      "execution_count": 0,
      "outputs": []
    },
    {
      "cell_type": "markdown",
      "metadata": {
        "id": "k1AahNpK7eyf",
        "colab_type": "text"
      },
      "source": [
        "TAKE A CLOSER LOOK AT OUR DATA"
      ]
    },
    {
      "cell_type": "code",
      "metadata": {
        "id": "3IjGlqdbQ7XX",
        "colab_type": "code",
        "outputId": "a1c290a6-adcf-4b0a-be7d-870d676f253e",
        "colab": {
          "base_uri": "https://localhost:8080/",
          "height": 504
        }
      },
      "source": [
        "wind.info()"
      ],
      "execution_count": 3,
      "outputs": [
        {
          "output_type": "stream",
          "text": [
            "<class 'pandas.core.frame.DataFrame'>\n",
            "RangeIndex: 60576 entries, 0 to 60575\n",
            "Data columns (total 24 columns):\n",
            "case_id       60576 non-null int64\n",
            "faa_ors       53368 non-null object\n",
            "faa_asn       53697 non-null object\n",
            "usgs_pr_id    41397 non-null float64\n",
            "t_state       60576 non-null object\n",
            "t_county      60576 non-null object\n",
            "t_fips        60576 non-null int64\n",
            "p_name        60576 non-null object\n",
            "p_year        60330 non-null float64\n",
            "p_tnum        60576 non-null int64\n",
            "p_cap         56530 non-null float64\n",
            "t_manu        56366 non-null object\n",
            "t_model       56227 non-null object\n",
            "t_cap         56531 non-null float64\n",
            "t_hh          54477 non-null float64\n",
            "t_rd          55408 non-null float64\n",
            "t_rsa         55408 non-null float64\n",
            "t_ttlh        54477 non-null float64\n",
            "t_conf_atr    60576 non-null int64\n",
            "t_conf_loc    60576 non-null int64\n",
            "t_img_date    38467 non-null object\n",
            "t_img_srce    60576 non-null object\n",
            "xlong         60576 non-null float64\n",
            "ylat          60576 non-null float64\n",
            "dtypes: float64(10), int64(5), object(9)\n",
            "memory usage: 11.1+ MB\n"
          ],
          "name": "stdout"
        }
      ]
    },
    {
      "cell_type": "markdown",
      "metadata": {
        "id": "ZKnmvc50i99Z",
        "colab_type": "text"
      },
      "source": [
        "WE HAVE 60,576 ENTRIES AND 24 ATTRIBUTES\n"
      ]
    },
    {
      "cell_type": "markdown",
      "metadata": {
        "id": "jJFluuK3OhgP",
        "colab_type": "text"
      },
      "source": [
        "DROP 9 COLUMNS NOT RELEVANT TO THIS PROJECT\n",
        "\n",
        "ADD \"MEAN CAPACITY FACTOR COLUMN\" -- A NUMBER I WILL CALCULATE"
      ]
    },
    {
      "cell_type": "code",
      "metadata": {
        "id": "eXRKPdBQhKKz",
        "colab_type": "code",
        "colab": {}
      },
      "source": [
        "wind.drop(wind.columns[[1,2,3,16,17,18,19,20,21]],axis=1,inplace=True)\n",
        "wind['Mean Capacity Factor']=0.0"
      ],
      "execution_count": 0,
      "outputs": []
    },
    {
      "cell_type": "code",
      "metadata": {
        "id": "AorqvjlGkvRS",
        "colab_type": "code",
        "outputId": "99844c76-9a54-4e15-e744-5d6412356441",
        "colab": {
          "base_uri": "https://localhost:8080/",
          "height": 34
        }
      },
      "source": [
        "wind.shape"
      ],
      "execution_count": 5,
      "outputs": [
        {
          "output_type": "execute_result",
          "data": {
            "text/plain": [
              "(60576, 16)"
            ]
          },
          "metadata": {
            "tags": []
          },
          "execution_count": 5
        }
      ]
    },
    {
      "cell_type": "markdown",
      "metadata": {
        "id": "ioaRePVVje3O",
        "colab_type": "text"
      },
      "source": [
        "RENAMES COLUMNS SO HUMANS CAN READ THEM"
      ]
    },
    {
      "cell_type": "code",
      "metadata": {
        "id": "5urZx19ik8or",
        "colab_type": "code",
        "colab": {}
      },
      "source": [
        "wind.columns=['CaseID','State','County','LocationID','Project Name', 'Year Built','Number of Turbines',\"Max Project Capacity\",'Turbine Manufacturer','Turbine Model','Max Turbine Capacity','Tower Hub Height','Rotor Diameter','Longitude','Latitude','Mean Capacity Factor']"
      ],
      "execution_count": 0,
      "outputs": []
    },
    {
      "cell_type": "code",
      "metadata": {
        "id": "hFpOd3mAoHPv",
        "colab_type": "code",
        "outputId": "66f0e705-f27a-448a-a9bd-5a89e84ba127",
        "colab": {
          "base_uri": "https://localhost:8080/",
          "height": 313
        }
      },
      "source": [
        "wind.head()"
      ],
      "execution_count": 7,
      "outputs": [
        {
          "output_type": "execute_result",
          "data": {
            "text/html": [
              "<div>\n",
              "<style scoped>\n",
              "    .dataframe tbody tr th:only-of-type {\n",
              "        vertical-align: middle;\n",
              "    }\n",
              "\n",
              "    .dataframe tbody tr th {\n",
              "        vertical-align: top;\n",
              "    }\n",
              "\n",
              "    .dataframe thead th {\n",
              "        text-align: right;\n",
              "    }\n",
              "</style>\n",
              "<table border=\"1\" class=\"dataframe\">\n",
              "  <thead>\n",
              "    <tr style=\"text-align: right;\">\n",
              "      <th></th>\n",
              "      <th>CaseID</th>\n",
              "      <th>State</th>\n",
              "      <th>County</th>\n",
              "      <th>LocationID</th>\n",
              "      <th>Project Name</th>\n",
              "      <th>Year Built</th>\n",
              "      <th>Number of Turbines</th>\n",
              "      <th>Max Project Capacity</th>\n",
              "      <th>Turbine Manufacturer</th>\n",
              "      <th>Turbine Model</th>\n",
              "      <th>Max Turbine Capacity</th>\n",
              "      <th>Tower Hub Height</th>\n",
              "      <th>Rotor Diameter</th>\n",
              "      <th>Longitude</th>\n",
              "      <th>Latitude</th>\n",
              "      <th>Mean Capacity Factor</th>\n",
              "    </tr>\n",
              "  </thead>\n",
              "  <tbody>\n",
              "    <tr>\n",
              "      <th>0</th>\n",
              "      <td>3073403</td>\n",
              "      <td>CA</td>\n",
              "      <td>Kern County</td>\n",
              "      <td>6029</td>\n",
              "      <td>251 Wind</td>\n",
              "      <td>1987.0</td>\n",
              "      <td>194</td>\n",
              "      <td>18.43</td>\n",
              "      <td>Vestas - American Wind Technology Inc.</td>\n",
              "      <td>Unknown Vestas</td>\n",
              "      <td>95.0</td>\n",
              "      <td>NaN</td>\n",
              "      <td>NaN</td>\n",
              "      <td>-118.352219</td>\n",
              "      <td>35.088993</td>\n",
              "      <td>0.0</td>\n",
              "    </tr>\n",
              "    <tr>\n",
              "      <th>1</th>\n",
              "      <td>3001002</td>\n",
              "      <td>CA</td>\n",
              "      <td>Kern County</td>\n",
              "      <td>6029</td>\n",
              "      <td>251 Wind</td>\n",
              "      <td>1987.0</td>\n",
              "      <td>194</td>\n",
              "      <td>18.43</td>\n",
              "      <td>Vestas - American Wind Technology Inc.</td>\n",
              "      <td>Unknown Vestas</td>\n",
              "      <td>95.0</td>\n",
              "      <td>NaN</td>\n",
              "      <td>NaN</td>\n",
              "      <td>-118.357185</td>\n",
              "      <td>35.086594</td>\n",
              "      <td>0.0</td>\n",
              "    </tr>\n",
              "    <tr>\n",
              "      <th>2</th>\n",
              "      <td>3005085</td>\n",
              "      <td>CA</td>\n",
              "      <td>Kern County</td>\n",
              "      <td>6029</td>\n",
              "      <td>251 Wind</td>\n",
              "      <td>1987.0</td>\n",
              "      <td>194</td>\n",
              "      <td>18.43</td>\n",
              "      <td>Vestas - American Wind Technology Inc.</td>\n",
              "      <td>Unknown Vestas</td>\n",
              "      <td>95.0</td>\n",
              "      <td>NaN</td>\n",
              "      <td>NaN</td>\n",
              "      <td>-118.353485</td>\n",
              "      <td>35.085896</td>\n",
              "      <td>0.0</td>\n",
              "    </tr>\n",
              "    <tr>\n",
              "      <th>3</th>\n",
              "      <td>3073404</td>\n",
              "      <td>CA</td>\n",
              "      <td>Kern County</td>\n",
              "      <td>6029</td>\n",
              "      <td>251 Wind</td>\n",
              "      <td>1987.0</td>\n",
              "      <td>194</td>\n",
              "      <td>18.43</td>\n",
              "      <td>Vestas - American Wind Technology Inc.</td>\n",
              "      <td>Unknown Vestas</td>\n",
              "      <td>95.0</td>\n",
              "      <td>NaN</td>\n",
              "      <td>NaN</td>\n",
              "      <td>-118.352531</td>\n",
              "      <td>35.087852</td>\n",
              "      <td>0.0</td>\n",
              "    </tr>\n",
              "    <tr>\n",
              "      <th>4</th>\n",
              "      <td>3073401</td>\n",
              "      <td>CA</td>\n",
              "      <td>Kern County</td>\n",
              "      <td>6029</td>\n",
              "      <td>251 Wind</td>\n",
              "      <td>1987.0</td>\n",
              "      <td>194</td>\n",
              "      <td>18.43</td>\n",
              "      <td>Vestas - American Wind Technology Inc.</td>\n",
              "      <td>Unknown Vestas</td>\n",
              "      <td>95.0</td>\n",
              "      <td>NaN</td>\n",
              "      <td>NaN</td>\n",
              "      <td>-118.354652</td>\n",
              "      <td>35.085163</td>\n",
              "      <td>0.0</td>\n",
              "    </tr>\n",
              "  </tbody>\n",
              "</table>\n",
              "</div>"
            ],
            "text/plain": [
              "    CaseID State       County  ...   Longitude   Latitude  Mean Capacity Factor\n",
              "0  3073403    CA  Kern County  ... -118.352219  35.088993                   0.0\n",
              "1  3001002    CA  Kern County  ... -118.357185  35.086594                   0.0\n",
              "2  3005085    CA  Kern County  ... -118.353485  35.085896                   0.0\n",
              "3  3073404    CA  Kern County  ... -118.352531  35.087852                   0.0\n",
              "4  3073401    CA  Kern County  ... -118.354652  35.085163                   0.0\n",
              "\n",
              "[5 rows x 16 columns]"
            ]
          },
          "metadata": {
            "tags": []
          },
          "execution_count": 7
        }
      ]
    },
    {
      "cell_type": "code",
      "metadata": {
        "id": "1oRfVhYWXBPz",
        "colab_type": "code",
        "outputId": "18713276-e8df-4a8f-cfc5-eac06d5a847a",
        "colab": {
          "base_uri": "https://localhost:8080/",
          "height": 34
        }
      },
      "source": [
        "wind.shape"
      ],
      "execution_count": 8,
      "outputs": [
        {
          "output_type": "execute_result",
          "data": {
            "text/plain": [
              "(60576, 16)"
            ]
          },
          "metadata": {
            "tags": []
          },
          "execution_count": 8
        }
      ]
    },
    {
      "cell_type": "markdown",
      "metadata": {
        "id": "foz24H9okyVz",
        "colab_type": "text"
      },
      "source": [
        "CREATING PANDAS SUBSET  --  ONLY TURBINES IN CALIFORNIA ---COUNT IS  **8119**"
      ]
    },
    {
      "cell_type": "code",
      "metadata": {
        "id": "JzGqRHFHTzFx",
        "colab_type": "code",
        "colab": {}
      },
      "source": [
        "wind_cali=wind[wind['State']=='CA']"
      ],
      "execution_count": 0,
      "outputs": []
    },
    {
      "cell_type": "code",
      "metadata": {
        "id": "wBG-3HuLp0mM",
        "colab_type": "code",
        "outputId": "03c72e7e-8b4d-47f6-d7eb-faef454c9aa4",
        "colab": {
          "base_uri": "https://localhost:8080/",
          "height": 34
        }
      },
      "source": [
        "wind_cali.shape"
      ],
      "execution_count": 10,
      "outputs": [
        {
          "output_type": "execute_result",
          "data": {
            "text/plain": [
              "(8119, 16)"
            ]
          },
          "metadata": {
            "tags": []
          },
          "execution_count": 10
        }
      ]
    },
    {
      "cell_type": "markdown",
      "metadata": {
        "id": "XRLZAgLHz6KR",
        "colab_type": "text"
      },
      "source": [
        "DROP ROWS WHERE  --> t_CAP=NaN\n",
        "\n",
        "NO ENTRY FOR MAX CAPACITY"
      ]
    },
    {
      "cell_type": "code",
      "metadata": {
        "id": "5Kh5K2wju_Ld",
        "colab_type": "code",
        "colab": {}
      },
      "source": [
        "wind_cali = wind_cali.dropna(subset=['Max Turbine Capacity'])"
      ],
      "execution_count": 0,
      "outputs": []
    },
    {
      "cell_type": "code",
      "metadata": {
        "id": "OdoHjheqUKpO",
        "colab_type": "code",
        "outputId": "85194a27-631a-4841-cb64-3c922f3bcd1b",
        "colab": {
          "base_uri": "https://localhost:8080/",
          "height": 34
        }
      },
      "source": [
        "wind_cali.shape"
      ],
      "execution_count": 0,
      "outputs": [
        {
          "output_type": "execute_result",
          "data": {
            "text/plain": [
              "(6075, 16)"
            ]
          },
          "metadata": {
            "tags": []
          },
          "execution_count": 133
        }
      ]
    },
    {
      "cell_type": "code",
      "metadata": {
        "id": "ORQzwJz4scI4",
        "colab_type": "code",
        "outputId": "c1101e53-2a71-4f41-c12c-fb9565eb07e7",
        "colab": {
          "base_uri": "https://localhost:8080/",
          "height": 174
        }
      },
      "source": [
        "wind_cali.head(2)"
      ],
      "execution_count": 0,
      "outputs": [
        {
          "output_type": "execute_result",
          "data": {
            "text/html": [
              "<div>\n",
              "<style scoped>\n",
              "    .dataframe tbody tr th:only-of-type {\n",
              "        vertical-align: middle;\n",
              "    }\n",
              "\n",
              "    .dataframe tbody tr th {\n",
              "        vertical-align: top;\n",
              "    }\n",
              "\n",
              "    .dataframe thead th {\n",
              "        text-align: right;\n",
              "    }\n",
              "</style>\n",
              "<table border=\"1\" class=\"dataframe\">\n",
              "  <thead>\n",
              "    <tr style=\"text-align: right;\">\n",
              "      <th></th>\n",
              "      <th>CaseID</th>\n",
              "      <th>State</th>\n",
              "      <th>County</th>\n",
              "      <th>LocationID</th>\n",
              "      <th>Project Name</th>\n",
              "      <th>Year Built</th>\n",
              "      <th>Number of Turbines</th>\n",
              "      <th>Max Project Capacity</th>\n",
              "      <th>Turbine Manufacturer</th>\n",
              "      <th>Turbine Model</th>\n",
              "      <th>Max Turbine Capacity</th>\n",
              "      <th>Tower Hub Height</th>\n",
              "      <th>Rotor Diameter</th>\n",
              "      <th>Longitude</th>\n",
              "      <th>Latitude</th>\n",
              "      <th>Mean Capacity Factor</th>\n",
              "    </tr>\n",
              "  </thead>\n",
              "  <tbody>\n",
              "    <tr>\n",
              "      <th>0</th>\n",
              "      <td>3073403</td>\n",
              "      <td>CA</td>\n",
              "      <td>Kern County</td>\n",
              "      <td>6029</td>\n",
              "      <td>251 Wind</td>\n",
              "      <td>1987.0</td>\n",
              "      <td>194</td>\n",
              "      <td>18.43</td>\n",
              "      <td>Vestas - American Wind Technology Inc.</td>\n",
              "      <td>Unknown Vestas</td>\n",
              "      <td>95.0</td>\n",
              "      <td>NaN</td>\n",
              "      <td>NaN</td>\n",
              "      <td>-118.352219</td>\n",
              "      <td>35.088993</td>\n",
              "      <td>0.0</td>\n",
              "    </tr>\n",
              "    <tr>\n",
              "      <th>1</th>\n",
              "      <td>3001002</td>\n",
              "      <td>CA</td>\n",
              "      <td>Kern County</td>\n",
              "      <td>6029</td>\n",
              "      <td>251 Wind</td>\n",
              "      <td>1987.0</td>\n",
              "      <td>194</td>\n",
              "      <td>18.43</td>\n",
              "      <td>Vestas - American Wind Technology Inc.</td>\n",
              "      <td>Unknown Vestas</td>\n",
              "      <td>95.0</td>\n",
              "      <td>NaN</td>\n",
              "      <td>NaN</td>\n",
              "      <td>-118.357185</td>\n",
              "      <td>35.086594</td>\n",
              "      <td>0.0</td>\n",
              "    </tr>\n",
              "  </tbody>\n",
              "</table>\n",
              "</div>"
            ],
            "text/plain": [
              "    CaseID State       County  ...   Longitude   Latitude  Mean Capacity Factor\n",
              "0  3073403    CA  Kern County  ... -118.352219  35.088993                   0.0\n",
              "1  3001002    CA  Kern County  ... -118.357185  35.086594                   0.0\n",
              "\n",
              "[2 rows x 16 columns]"
            ]
          },
          "metadata": {
            "tags": []
          },
          "execution_count": 134
        }
      ]
    },
    {
      "cell_type": "markdown",
      "metadata": {
        "id": "e05KVu0RLDWJ",
        "colab_type": "text"
      },
      "source": [
        "FIND MINIMUM LATITUDE FOR CALIFORNIA WIND TURBINES"
      ]
    },
    {
      "cell_type": "code",
      "metadata": {
        "id": "HEdcl-vZ4ltX",
        "colab_type": "code",
        "outputId": "e7fecab9-acb1-4e15-9fbb-62f007d51036",
        "colab": {
          "base_uri": "https://localhost:8080/",
          "height": 34
        }
      },
      "source": [
        "wind_cali['Latitude'].min()"
      ],
      "execution_count": 12,
      "outputs": [
        {
          "output_type": "execute_result",
          "data": {
            "text/plain": [
              "32.701496"
            ]
          },
          "metadata": {
            "tags": []
          },
          "execution_count": 12
        }
      ]
    },
    {
      "cell_type": "markdown",
      "metadata": {
        "id": "Adkk8Xj2LPie",
        "colab_type": "text"
      },
      "source": [
        "FIND MAXIMUM LATITUDE FOR CALIFORNIA WIND TURBINES"
      ]
    },
    {
      "cell_type": "code",
      "metadata": {
        "id": "CzXP3Yp-4suz",
        "colab_type": "code",
        "outputId": "8bd0141f-4f65-4027-e6b1-ff09fe337c39",
        "colab": {
          "base_uri": "https://localhost:8080/",
          "height": 34
        }
      },
      "source": [
        "wind_cali['Latitude'].max()"
      ],
      "execution_count": 13,
      "outputs": [
        {
          "output_type": "execute_result",
          "data": {
            "text/plain": [
              "40.914696"
            ]
          },
          "metadata": {
            "tags": []
          },
          "execution_count": 13
        }
      ]
    },
    {
      "cell_type": "markdown",
      "metadata": {
        "id": "CqhFKCWxCaHS",
        "colab_type": "text"
      },
      "source": [
        "/////////////////////////////////////////////////////////////////////////////////////////////"
      ]
    },
    {
      "cell_type": "markdown",
      "metadata": {
        "id": "W8KNKXgOCVjE",
        "colab_type": "text"
      },
      "source": [
        "**SOUTHERN CALIFORNIA**"
      ]
    },
    {
      "cell_type": "markdown",
      "metadata": {
        "id": "1RO14tfwjGAZ",
        "colab_type": "text"
      },
      "source": [
        "SELECT  TURBINES BETWEEN LATITUDE 32 AND 34  NORTH --  SOUTHERN CALIFORNIA"
      ]
    },
    {
      "cell_type": "code",
      "metadata": {
        "id": "qNxAoB5b42jv",
        "colab_type": "code",
        "colab": {}
      },
      "source": [
        "cali_south=wind_cali[(wind_cali['Latitude']>32) & (wind_cali['Latitude']<34)]"
      ],
      "execution_count": 0,
      "outputs": []
    },
    {
      "cell_type": "code",
      "metadata": {
        "id": "GB7N4UPzVHP3",
        "colab_type": "code",
        "outputId": "08ffe3c5-9922-4758-c7c8-a893e1aa18ec",
        "colab": {
          "base_uri": "https://localhost:8080/",
          "height": 34
        }
      },
      "source": [
        "cali_south.shape"
      ],
      "execution_count": 15,
      "outputs": [
        {
          "output_type": "execute_result",
          "data": {
            "text/plain": [
              "(2215, 16)"
            ]
          },
          "metadata": {
            "tags": []
          },
          "execution_count": 15
        }
      ]
    },
    {
      "cell_type": "markdown",
      "metadata": {
        "id": "EduV6TQ9jUHW",
        "colab_type": "text"
      },
      "source": [
        "RANDOMLY SELECT 30 TURBINES FROM ABOVE SOUTHERN CALI SUBSET"
      ]
    },
    {
      "cell_type": "code",
      "metadata": {
        "id": "IQJQM2pj9shr",
        "colab_type": "code",
        "colab": {}
      },
      "source": [
        "cs=cali_south.sample(30,random_state=1)"
      ],
      "execution_count": 0,
      "outputs": []
    },
    {
      "cell_type": "markdown",
      "metadata": {
        "id": "nZab99FIB1ZF",
        "colab_type": "text"
      },
      "source": [
        "TOTAL POWER CAPACITY FOR ALL SOUTHERN CALIFORNIA TURBINES IN MW"
      ]
    },
    {
      "cell_type": "code",
      "metadata": {
        "id": "dFo81BIa-lQ-",
        "colab_type": "code",
        "outputId": "9e935c63-c2d1-485b-889c-06aa7f75668a",
        "colab": {
          "base_uri": "https://localhost:8080/",
          "height": 34
        }
      },
      "source": [
        "cs['Max Turbine Capacity'].sum()"
      ],
      "execution_count": 17,
      "outputs": [
        {
          "output_type": "execute_result",
          "data": {
            "text/plain": [
              "14648.0"
            ]
          },
          "metadata": {
            "tags": []
          },
          "execution_count": 17
        }
      ]
    },
    {
      "cell_type": "code",
      "metadata": {
        "id": "DwR2JPttEYNc",
        "colab_type": "code",
        "colab": {}
      },
      "source": [
        "cs_sub=cs[['Max Turbine Capacity','Tower Hub Height','Mean Capacity Factor']]"
      ],
      "execution_count": 0,
      "outputs": []
    },
    {
      "cell_type": "markdown",
      "metadata": {
        "id": "ZBVO5n7vHF85",
        "colab_type": "text"
      },
      "source": [
        "COMPUTE MEAN CAPACITY FACTOR FOR EACH TURBINE USING RENEWABLES.NINJA"
      ]
    },
    {
      "cell_type": "code",
      "metadata": {
        "id": "C_iUtYWYMl9G",
        "colab_type": "code",
        "colab": {}
      },
      "source": [
        "cs.at[24740,'Mean Capacity Factor']=16.1\n",
        "cs.at[36806,'Mean Capacity Factor']=21.5\n",
        "cs.at[36885,'Mean Capacity Factor']=12.7\n",
        "cs.at[31899,'Mean Capacity Factor']=12.7\n",
        "cs.at[31928,'Mean Capacity Factor']=12.7\n",
        "cs.at[771,'Mean Capacity Factor']=10.2\n",
        "cs.at[31697,'Mean Capacity Factor']=16.1\n",
        "cs.at[826,'Mean Capacity Factor']=9.23\n",
        "cs.at[31884,'Mean Capacity Factor']=12.7\n",
        "cs.at[44514,'Mean Capacity Factor']=14.4\n",
        "cs.at[44431,'Mean Capacity Factor']=13.1\n",
        "cs.at[13638,'Mean Capacity Factor']=17.2\n",
        "cs.at[33343,'Mean Capacity Factor']=13.2\n",
        "cs.at[44519,'Mean Capacity Factor']=18.3\n",
        "cs.at[44428,'Mean Capacity Factor']=14.2\n",
        "cs.at[55048,'Mean Capacity Factor']=16.2 #assigned section mean  37.7\n",
        "cs.at[36845,'Mean Capacity Factor']=18.4\n",
        "cs.at[33408,'Mean Capacity Factor']=14.8\n",
        "cs.at[35882,'Mean Capacity Factor']=25.6\n",
        "cs.at[36809,'Mean Capacity Factor']=13.5\n",
        "cs.at[33402,'Mean Capacity Factor']=13.6\n",
        "cs.at[44530,'Mean Capacity Factor']=15.9\n",
        "cs.at[33425,'Mean Capacity Factor']=15.5\n",
        "cs.at[33301,'Mean Capacity Factor']=17.3\n",
        "cs.at[33399,'Mean Capacity Factor']=16.1\n",
        "cs.at[44534,'Mean Capacity Factor']=15.9\n",
        "cs.at[33310,'Mean Capacity Factor']=13.6\n",
        "cs.at[31894,'Mean Capacity Factor']=13.8\n",
        "cs.at[52153,'Mean Capacity Factor']=25.9\n",
        "cs.at[44441,'Mean Capacity Factor']=14.2"
      ],
      "execution_count": 0,
      "outputs": []
    },
    {
      "cell_type": "markdown",
      "metadata": {
        "id": "ZwEX58yet-gv",
        "colab_type": "text"
      },
      "source": [
        "DISPLAY DETAILS FOR ALL 30 RANDOMLY SELECTED TURBINES"
      ]
    },
    {
      "cell_type": "code",
      "metadata": {
        "id": "K9iqAsOHuAqB",
        "colab_type": "code",
        "outputId": "3053011a-77ad-4768-a5fa-a38145c11649",
        "colab": {
          "base_uri": "https://localhost:8080/",
          "height": 1000
        }
      },
      "source": [
        "cs"
      ],
      "execution_count": 20,
      "outputs": [
        {
          "output_type": "execute_result",
          "data": {
            "text/html": [
              "<div>\n",
              "<style scoped>\n",
              "    .dataframe tbody tr th:only-of-type {\n",
              "        vertical-align: middle;\n",
              "    }\n",
              "\n",
              "    .dataframe tbody tr th {\n",
              "        vertical-align: top;\n",
              "    }\n",
              "\n",
              "    .dataframe thead th {\n",
              "        text-align: right;\n",
              "    }\n",
              "</style>\n",
              "<table border=\"1\" class=\"dataframe\">\n",
              "  <thead>\n",
              "    <tr style=\"text-align: right;\">\n",
              "      <th></th>\n",
              "      <th>CaseID</th>\n",
              "      <th>State</th>\n",
              "      <th>County</th>\n",
              "      <th>LocationID</th>\n",
              "      <th>Project Name</th>\n",
              "      <th>Year Built</th>\n",
              "      <th>Number of Turbines</th>\n",
              "      <th>Max Project Capacity</th>\n",
              "      <th>Turbine Manufacturer</th>\n",
              "      <th>Turbine Model</th>\n",
              "      <th>Max Turbine Capacity</th>\n",
              "      <th>Tower Hub Height</th>\n",
              "      <th>Rotor Diameter</th>\n",
              "      <th>Longitude</th>\n",
              "      <th>Latitude</th>\n",
              "      <th>Mean Capacity Factor</th>\n",
              "    </tr>\n",
              "  </thead>\n",
              "  <tbody>\n",
              "    <tr>\n",
              "      <th>24740</th>\n",
              "      <td>3006356</td>\n",
              "      <td>CA</td>\n",
              "      <td>Riverside County</td>\n",
              "      <td>6065</td>\n",
              "      <td>Karen Avenue Windfarm</td>\n",
              "      <td>2004.0</td>\n",
              "      <td>12</td>\n",
              "      <td>11.700</td>\n",
              "      <td>GE Wind</td>\n",
              "      <td>1.5-70.5</td>\n",
              "      <td>1500.0</td>\n",
              "      <td>56.5</td>\n",
              "      <td>77.0</td>\n",
              "      <td>-116.555290</td>\n",
              "      <td>33.921993</td>\n",
              "      <td>16.10</td>\n",
              "    </tr>\n",
              "    <tr>\n",
              "      <th>36806</th>\n",
              "      <td>3067710</td>\n",
              "      <td>CA</td>\n",
              "      <td>Riverside County</td>\n",
              "      <td>6065</td>\n",
              "      <td>Painted Hills</td>\n",
              "      <td>1985.0</td>\n",
              "      <td>169</td>\n",
              "      <td>15.210</td>\n",
              "      <td>Vestas - American Wind Technology Inc.</td>\n",
              "      <td>V17</td>\n",
              "      <td>90.0</td>\n",
              "      <td>NaN</td>\n",
              "      <td>17.0</td>\n",
              "      <td>-116.631630</td>\n",
              "      <td>33.935703</td>\n",
              "      <td>21.50</td>\n",
              "    </tr>\n",
              "    <tr>\n",
              "      <th>36885</th>\n",
              "      <td>3067760</td>\n",
              "      <td>CA</td>\n",
              "      <td>Riverside County</td>\n",
              "      <td>6065</td>\n",
              "      <td>Painted Hills</td>\n",
              "      <td>1985.0</td>\n",
              "      <td>59</td>\n",
              "      <td>3.835</td>\n",
              "      <td>Vestas - American Wind Technology Inc.</td>\n",
              "      <td>V15</td>\n",
              "      <td>65.0</td>\n",
              "      <td>NaN</td>\n",
              "      <td>15.0</td>\n",
              "      <td>-116.618141</td>\n",
              "      <td>33.937469</td>\n",
              "      <td>12.70</td>\n",
              "    </tr>\n",
              "    <tr>\n",
              "      <th>31899</th>\n",
              "      <td>3002834</td>\n",
              "      <td>CA</td>\n",
              "      <td>Riverside County</td>\n",
              "      <td>6065</td>\n",
              "      <td>Mesa Wind Farm</td>\n",
              "      <td>1983.0</td>\n",
              "      <td>460</td>\n",
              "      <td>29.900</td>\n",
              "      <td>Vestas</td>\n",
              "      <td>V15</td>\n",
              "      <td>65.0</td>\n",
              "      <td>22.8</td>\n",
              "      <td>15.3</td>\n",
              "      <td>-116.661087</td>\n",
              "      <td>33.960297</td>\n",
              "      <td>12.70</td>\n",
              "    </tr>\n",
              "    <tr>\n",
              "      <th>31928</th>\n",
              "      <td>3003352</td>\n",
              "      <td>CA</td>\n",
              "      <td>Riverside County</td>\n",
              "      <td>6065</td>\n",
              "      <td>Mesa Wind Farm</td>\n",
              "      <td>1983.0</td>\n",
              "      <td>460</td>\n",
              "      <td>29.900</td>\n",
              "      <td>Vestas</td>\n",
              "      <td>V15</td>\n",
              "      <td>65.0</td>\n",
              "      <td>22.8</td>\n",
              "      <td>15.3</td>\n",
              "      <td>-116.658691</td>\n",
              "      <td>33.954594</td>\n",
              "      <td>12.70</td>\n",
              "    </tr>\n",
              "    <tr>\n",
              "      <th>771</th>\n",
              "      <td>3000119</td>\n",
              "      <td>CA</td>\n",
              "      <td>Riverside County</td>\n",
              "      <td>6065</td>\n",
              "      <td>Alta Mesa 1 and 2</td>\n",
              "      <td>1988.0</td>\n",
              "      <td>115</td>\n",
              "      <td>18.560</td>\n",
              "      <td>Danwin</td>\n",
              "      <td>23_160</td>\n",
              "      <td>160.0</td>\n",
              "      <td>23.0</td>\n",
              "      <td>23.0</td>\n",
              "      <td>-116.660759</td>\n",
              "      <td>33.942959</td>\n",
              "      <td>10.20</td>\n",
              "    </tr>\n",
              "    <tr>\n",
              "      <th>31697</th>\n",
              "      <td>3004362</td>\n",
              "      <td>CA</td>\n",
              "      <td>Riverside County</td>\n",
              "      <td>6065</td>\n",
              "      <td>Mesa Wind Farm</td>\n",
              "      <td>1983.0</td>\n",
              "      <td>460</td>\n",
              "      <td>29.900</td>\n",
              "      <td>Vestas</td>\n",
              "      <td>V15</td>\n",
              "      <td>65.0</td>\n",
              "      <td>22.8</td>\n",
              "      <td>15.3</td>\n",
              "      <td>-116.658806</td>\n",
              "      <td>33.955647</td>\n",
              "      <td>16.10</td>\n",
              "    </tr>\n",
              "    <tr>\n",
              "      <th>826</th>\n",
              "      <td>3008467</td>\n",
              "      <td>CA</td>\n",
              "      <td>Riverside County</td>\n",
              "      <td>6065</td>\n",
              "      <td>Alta Mesa 1 and 2</td>\n",
              "      <td>1988.0</td>\n",
              "      <td>115</td>\n",
              "      <td>18.560</td>\n",
              "      <td>Danwin</td>\n",
              "      <td>23_160</td>\n",
              "      <td>160.0</td>\n",
              "      <td>23.0</td>\n",
              "      <td>23.0</td>\n",
              "      <td>-116.666092</td>\n",
              "      <td>33.945309</td>\n",
              "      <td>9.23</td>\n",
              "    </tr>\n",
              "    <tr>\n",
              "      <th>31884</th>\n",
              "      <td>3009485</td>\n",
              "      <td>CA</td>\n",
              "      <td>Riverside County</td>\n",
              "      <td>6065</td>\n",
              "      <td>Mesa Wind Farm</td>\n",
              "      <td>1983.0</td>\n",
              "      <td>460</td>\n",
              "      <td>29.900</td>\n",
              "      <td>Vestas</td>\n",
              "      <td>V15</td>\n",
              "      <td>65.0</td>\n",
              "      <td>22.8</td>\n",
              "      <td>15.3</td>\n",
              "      <td>-116.652290</td>\n",
              "      <td>33.953796</td>\n",
              "      <td>12.70</td>\n",
              "    </tr>\n",
              "    <tr>\n",
              "      <th>44514</th>\n",
              "      <td>3008744</td>\n",
              "      <td>CA</td>\n",
              "      <td>Riverside County</td>\n",
              "      <td>6065</td>\n",
              "      <td>San Gorgonio Westwinds II LLC</td>\n",
              "      <td>1999.0</td>\n",
              "      <td>48</td>\n",
              "      <td>33.600</td>\n",
              "      <td>NEG Micon</td>\n",
              "      <td>NM48</td>\n",
              "      <td>700.0</td>\n",
              "      <td>50.0</td>\n",
              "      <td>48.0</td>\n",
              "      <td>-116.588890</td>\n",
              "      <td>33.895195</td>\n",
              "      <td>14.40</td>\n",
              "    </tr>\n",
              "    <tr>\n",
              "      <th>44431</th>\n",
              "      <td>3071642</td>\n",
              "      <td>CA</td>\n",
              "      <td>Riverside County</td>\n",
              "      <td>6065</td>\n",
              "      <td>San Gorgonio Farms Wind Farm</td>\n",
              "      <td>1986.0</td>\n",
              "      <td>112</td>\n",
              "      <td>31.000</td>\n",
              "      <td>Bonus</td>\n",
              "      <td>120</td>\n",
              "      <td>120.0</td>\n",
              "      <td>24.0</td>\n",
              "      <td>19.4</td>\n",
              "      <td>-116.613251</td>\n",
              "      <td>33.931149</td>\n",
              "      <td>13.10</td>\n",
              "    </tr>\n",
              "    <tr>\n",
              "      <th>13638</th>\n",
              "      <td>3002348</td>\n",
              "      <td>CA</td>\n",
              "      <td>Riverside County</td>\n",
              "      <td>6065</td>\n",
              "      <td>DifWind Farms Ltd. V</td>\n",
              "      <td>1985.0</td>\n",
              "      <td>109</td>\n",
              "      <td>11.772</td>\n",
              "      <td>Micon</td>\n",
              "      <td>M108</td>\n",
              "      <td>108.0</td>\n",
              "      <td>NaN</td>\n",
              "      <td>NaN</td>\n",
              "      <td>-116.551285</td>\n",
              "      <td>33.892796</td>\n",
              "      <td>17.20</td>\n",
              "    </tr>\n",
              "    <tr>\n",
              "      <th>33343</th>\n",
              "      <td>3083673</td>\n",
              "      <td>CA</td>\n",
              "      <td>Riverside County</td>\n",
              "      <td>6065</td>\n",
              "      <td>Mountain View Power Partners I &amp; II</td>\n",
              "      <td>2001.0</td>\n",
              "      <td>111</td>\n",
              "      <td>66.600</td>\n",
              "      <td>Mitsubishi</td>\n",
              "      <td>MWT600</td>\n",
              "      <td>600.0</td>\n",
              "      <td>55.0</td>\n",
              "      <td>45.0</td>\n",
              "      <td>-116.608932</td>\n",
              "      <td>33.904209</td>\n",
              "      <td>13.20</td>\n",
              "    </tr>\n",
              "    <tr>\n",
              "      <th>44519</th>\n",
              "      <td>3008562</td>\n",
              "      <td>CA</td>\n",
              "      <td>Riverside County</td>\n",
              "      <td>6065</td>\n",
              "      <td>San Jacinto Power Company</td>\n",
              "      <td>1985.0</td>\n",
              "      <td>53</td>\n",
              "      <td>4.645</td>\n",
              "      <td>Windmatic</td>\n",
              "      <td>Windmatic 15S</td>\n",
              "      <td>65.0</td>\n",
              "      <td>NaN</td>\n",
              "      <td>11.0</td>\n",
              "      <td>-116.561989</td>\n",
              "      <td>33.889896</td>\n",
              "      <td>18.30</td>\n",
              "    </tr>\n",
              "    <tr>\n",
              "      <th>44428</th>\n",
              "      <td>3067734</td>\n",
              "      <td>CA</td>\n",
              "      <td>Riverside County</td>\n",
              "      <td>6065</td>\n",
              "      <td>San Gorgonio Farms Wind Farm</td>\n",
              "      <td>1984.0</td>\n",
              "      <td>112</td>\n",
              "      <td>31.000</td>\n",
              "      <td>Bonus</td>\n",
              "      <td>65</td>\n",
              "      <td>65.0</td>\n",
              "      <td>24.0</td>\n",
              "      <td>15.3</td>\n",
              "      <td>-116.620285</td>\n",
              "      <td>33.920486</td>\n",
              "      <td>14.20</td>\n",
              "    </tr>\n",
              "    <tr>\n",
              "      <th>55048</th>\n",
              "      <td>3074000</td>\n",
              "      <td>CA</td>\n",
              "      <td>Riverside County</td>\n",
              "      <td>6065</td>\n",
              "      <td>Whitewater Hill</td>\n",
              "      <td>2002.0</td>\n",
              "      <td>41</td>\n",
              "      <td>61.500</td>\n",
              "      <td>GE Wind</td>\n",
              "      <td>GE1.5-65</td>\n",
              "      <td>1500.0</td>\n",
              "      <td>65.0</td>\n",
              "      <td>65.0</td>\n",
              "      <td>-116.626045</td>\n",
              "      <td>33.924664</td>\n",
              "      <td>16.20</td>\n",
              "    </tr>\n",
              "    <tr>\n",
              "      <th>36845</th>\n",
              "      <td>3002030</td>\n",
              "      <td>CA</td>\n",
              "      <td>Riverside County</td>\n",
              "      <td>6065</td>\n",
              "      <td>Painted Hills</td>\n",
              "      <td>1985.0</td>\n",
              "      <td>169</td>\n",
              "      <td>15.210</td>\n",
              "      <td>Vestas - American Wind Technology Inc.</td>\n",
              "      <td>V17</td>\n",
              "      <td>90.0</td>\n",
              "      <td>NaN</td>\n",
              "      <td>17.0</td>\n",
              "      <td>-116.626686</td>\n",
              "      <td>33.934696</td>\n",
              "      <td>18.40</td>\n",
              "    </tr>\n",
              "    <tr>\n",
              "      <th>33408</th>\n",
              "      <td>3075097</td>\n",
              "      <td>CA</td>\n",
              "      <td>Riverside County</td>\n",
              "      <td>6065</td>\n",
              "      <td>Mountain View Power Partners I &amp; II</td>\n",
              "      <td>2001.0</td>\n",
              "      <td>111</td>\n",
              "      <td>66.600</td>\n",
              "      <td>Mitsubishi</td>\n",
              "      <td>MWT600</td>\n",
              "      <td>600.0</td>\n",
              "      <td>55.0</td>\n",
              "      <td>45.0</td>\n",
              "      <td>-116.619507</td>\n",
              "      <td>33.909706</td>\n",
              "      <td>14.80</td>\n",
              "    </tr>\n",
              "    <tr>\n",
              "      <th>35882</th>\n",
              "      <td>3039791</td>\n",
              "      <td>CA</td>\n",
              "      <td>Imperial County</td>\n",
              "      <td>6025</td>\n",
              "      <td>Ocotillo Wind I</td>\n",
              "      <td>2012.0</td>\n",
              "      <td>94</td>\n",
              "      <td>222.780</td>\n",
              "      <td>Siemens</td>\n",
              "      <td>SWT-2.37-108</td>\n",
              "      <td>2370.0</td>\n",
              "      <td>80.0</td>\n",
              "      <td>108.0</td>\n",
              "      <td>-116.053688</td>\n",
              "      <td>32.734596</td>\n",
              "      <td>25.60</td>\n",
              "    </tr>\n",
              "    <tr>\n",
              "      <th>36809</th>\n",
              "      <td>3067764</td>\n",
              "      <td>CA</td>\n",
              "      <td>Riverside County</td>\n",
              "      <td>6065</td>\n",
              "      <td>Painted Hills</td>\n",
              "      <td>1985.0</td>\n",
              "      <td>169</td>\n",
              "      <td>15.210</td>\n",
              "      <td>Vestas - American Wind Technology Inc.</td>\n",
              "      <td>V17</td>\n",
              "      <td>90.0</td>\n",
              "      <td>NaN</td>\n",
              "      <td>17.0</td>\n",
              "      <td>-116.628838</td>\n",
              "      <td>33.938614</td>\n",
              "      <td>13.50</td>\n",
              "    </tr>\n",
              "    <tr>\n",
              "      <th>33402</th>\n",
              "      <td>3071939</td>\n",
              "      <td>CA</td>\n",
              "      <td>Riverside County</td>\n",
              "      <td>6065</td>\n",
              "      <td>Mountain View Power Partners I &amp; II</td>\n",
              "      <td>2001.0</td>\n",
              "      <td>111</td>\n",
              "      <td>66.600</td>\n",
              "      <td>Mitsubishi</td>\n",
              "      <td>MWT600</td>\n",
              "      <td>600.0</td>\n",
              "      <td>55.0</td>\n",
              "      <td>45.0</td>\n",
              "      <td>-116.580833</td>\n",
              "      <td>33.891487</td>\n",
              "      <td>13.60</td>\n",
              "    </tr>\n",
              "    <tr>\n",
              "      <th>44530</th>\n",
              "      <td>3071832</td>\n",
              "      <td>CA</td>\n",
              "      <td>Riverside County</td>\n",
              "      <td>6065</td>\n",
              "      <td>San Jacinto Power Company</td>\n",
              "      <td>1985.0</td>\n",
              "      <td>53</td>\n",
              "      <td>4.645</td>\n",
              "      <td>Vanguard</td>\n",
              "      <td>95T</td>\n",
              "      <td>95.0</td>\n",
              "      <td>NaN</td>\n",
              "      <td>NaN</td>\n",
              "      <td>-116.562035</td>\n",
              "      <td>33.893578</td>\n",
              "      <td>15.90</td>\n",
              "    </tr>\n",
              "    <tr>\n",
              "      <th>33425</th>\n",
              "      <td>3074375</td>\n",
              "      <td>CA</td>\n",
              "      <td>Riverside County</td>\n",
              "      <td>6065</td>\n",
              "      <td>Mountain View Power Partners III</td>\n",
              "      <td>2003.0</td>\n",
              "      <td>34</td>\n",
              "      <td>22.440</td>\n",
              "      <td>Vestas</td>\n",
              "      <td>V47-0.66</td>\n",
              "      <td>660.0</td>\n",
              "      <td>60.0</td>\n",
              "      <td>47.0</td>\n",
              "      <td>-116.587029</td>\n",
              "      <td>33.915722</td>\n",
              "      <td>15.50</td>\n",
              "    </tr>\n",
              "    <tr>\n",
              "      <th>33301</th>\n",
              "      <td>3036738</td>\n",
              "      <td>CA</td>\n",
              "      <td>Riverside County</td>\n",
              "      <td>6065</td>\n",
              "      <td>Mountain View IV</td>\n",
              "      <td>2012.0</td>\n",
              "      <td>49</td>\n",
              "      <td>49.000</td>\n",
              "      <td>Mitsubishi</td>\n",
              "      <td>MWT62/1.0</td>\n",
              "      <td>1000.0</td>\n",
              "      <td>60.0</td>\n",
              "      <td>61.4</td>\n",
              "      <td>-116.569489</td>\n",
              "      <td>33.881596</td>\n",
              "      <td>17.30</td>\n",
              "    </tr>\n",
              "    <tr>\n",
              "      <th>33399</th>\n",
              "      <td>3002034</td>\n",
              "      <td>CA</td>\n",
              "      <td>Riverside County</td>\n",
              "      <td>6065</td>\n",
              "      <td>Mountain View Power Partners I &amp; II</td>\n",
              "      <td>2001.0</td>\n",
              "      <td>111</td>\n",
              "      <td>66.600</td>\n",
              "      <td>Mitsubishi</td>\n",
              "      <td>MWT600</td>\n",
              "      <td>600.0</td>\n",
              "      <td>55.0</td>\n",
              "      <td>45.0</td>\n",
              "      <td>-116.604675</td>\n",
              "      <td>33.905792</td>\n",
              "      <td>16.10</td>\n",
              "    </tr>\n",
              "    <tr>\n",
              "      <th>44534</th>\n",
              "      <td>3071801</td>\n",
              "      <td>CA</td>\n",
              "      <td>Riverside County</td>\n",
              "      <td>6065</td>\n",
              "      <td>San Jacinto Power Company</td>\n",
              "      <td>1985.0</td>\n",
              "      <td>53</td>\n",
              "      <td>4.645</td>\n",
              "      <td>Windmatic</td>\n",
              "      <td>Windmatic 15S</td>\n",
              "      <td>65.0</td>\n",
              "      <td>NaN</td>\n",
              "      <td>11.0</td>\n",
              "      <td>-116.562027</td>\n",
              "      <td>33.889465</td>\n",
              "      <td>15.90</td>\n",
              "    </tr>\n",
              "    <tr>\n",
              "      <th>33310</th>\n",
              "      <td>3007002</td>\n",
              "      <td>CA</td>\n",
              "      <td>Riverside County</td>\n",
              "      <td>6065</td>\n",
              "      <td>Mountain View Power Partners I &amp; II</td>\n",
              "      <td>2001.0</td>\n",
              "      <td>111</td>\n",
              "      <td>66.600</td>\n",
              "      <td>Mitsubishi</td>\n",
              "      <td>MWT600</td>\n",
              "      <td>600.0</td>\n",
              "      <td>55.0</td>\n",
              "      <td>45.0</td>\n",
              "      <td>-116.600571</td>\n",
              "      <td>33.902992</td>\n",
              "      <td>13.60</td>\n",
              "    </tr>\n",
              "    <tr>\n",
              "      <th>31894</th>\n",
              "      <td>3010259</td>\n",
              "      <td>CA</td>\n",
              "      <td>Riverside County</td>\n",
              "      <td>6065</td>\n",
              "      <td>Mesa Wind Farm</td>\n",
              "      <td>1983.0</td>\n",
              "      <td>460</td>\n",
              "      <td>29.900</td>\n",
              "      <td>Vestas</td>\n",
              "      <td>V15</td>\n",
              "      <td>65.0</td>\n",
              "      <td>22.8</td>\n",
              "      <td>15.3</td>\n",
              "      <td>-116.661240</td>\n",
              "      <td>33.953812</td>\n",
              "      <td>13.80</td>\n",
              "    </tr>\n",
              "    <tr>\n",
              "      <th>52153</th>\n",
              "      <td>3082054</td>\n",
              "      <td>CA</td>\n",
              "      <td>San Diego County</td>\n",
              "      <td>6073</td>\n",
              "      <td>Tule</td>\n",
              "      <td>2018.0</td>\n",
              "      <td>57</td>\n",
              "      <td>131.100</td>\n",
              "      <td>GE Wind</td>\n",
              "      <td>GE2.3-107</td>\n",
              "      <td>2300.0</td>\n",
              "      <td>80.0</td>\n",
              "      <td>107.0</td>\n",
              "      <td>-116.300552</td>\n",
              "      <td>32.778614</td>\n",
              "      <td>25.90</td>\n",
              "    </tr>\n",
              "    <tr>\n",
              "      <th>44441</th>\n",
              "      <td>3009639</td>\n",
              "      <td>CA</td>\n",
              "      <td>Riverside County</td>\n",
              "      <td>6065</td>\n",
              "      <td>San Gorgonio Farms Wind Farm</td>\n",
              "      <td>1986.0</td>\n",
              "      <td>112</td>\n",
              "      <td>31.000</td>\n",
              "      <td>Bonus</td>\n",
              "      <td>120</td>\n",
              "      <td>120.0</td>\n",
              "      <td>24.0</td>\n",
              "      <td>19.4</td>\n",
              "      <td>-116.613190</td>\n",
              "      <td>33.926895</td>\n",
              "      <td>14.20</td>\n",
              "    </tr>\n",
              "  </tbody>\n",
              "</table>\n",
              "</div>"
            ],
            "text/plain": [
              "        CaseID State  ...   Latitude  Mean Capacity Factor\n",
              "24740  3006356    CA  ...  33.921993                 16.10\n",
              "36806  3067710    CA  ...  33.935703                 21.50\n",
              "36885  3067760    CA  ...  33.937469                 12.70\n",
              "31899  3002834    CA  ...  33.960297                 12.70\n",
              "31928  3003352    CA  ...  33.954594                 12.70\n",
              "771    3000119    CA  ...  33.942959                 10.20\n",
              "31697  3004362    CA  ...  33.955647                 16.10\n",
              "826    3008467    CA  ...  33.945309                  9.23\n",
              "31884  3009485    CA  ...  33.953796                 12.70\n",
              "44514  3008744    CA  ...  33.895195                 14.40\n",
              "44431  3071642    CA  ...  33.931149                 13.10\n",
              "13638  3002348    CA  ...  33.892796                 17.20\n",
              "33343  3083673    CA  ...  33.904209                 13.20\n",
              "44519  3008562    CA  ...  33.889896                 18.30\n",
              "44428  3067734    CA  ...  33.920486                 14.20\n",
              "55048  3074000    CA  ...  33.924664                 16.20\n",
              "36845  3002030    CA  ...  33.934696                 18.40\n",
              "33408  3075097    CA  ...  33.909706                 14.80\n",
              "35882  3039791    CA  ...  32.734596                 25.60\n",
              "36809  3067764    CA  ...  33.938614                 13.50\n",
              "33402  3071939    CA  ...  33.891487                 13.60\n",
              "44530  3071832    CA  ...  33.893578                 15.90\n",
              "33425  3074375    CA  ...  33.915722                 15.50\n",
              "33301  3036738    CA  ...  33.881596                 17.30\n",
              "33399  3002034    CA  ...  33.905792                 16.10\n",
              "44534  3071801    CA  ...  33.889465                 15.90\n",
              "33310  3007002    CA  ...  33.902992                 13.60\n",
              "31894  3010259    CA  ...  33.953812                 13.80\n",
              "52153  3082054    CA  ...  32.778614                 25.90\n",
              "44441  3009639    CA  ...  33.926895                 14.20\n",
              "\n",
              "[30 rows x 16 columns]"
            ]
          },
          "metadata": {
            "tags": []
          },
          "execution_count": 20
        }
      ]
    },
    {
      "cell_type": "markdown",
      "metadata": {
        "id": "E8NFwqydCSsc",
        "colab_type": "text"
      },
      "source": [
        "////////////////////////////////////////////////////////////////////////////////////////////////////////////////////////////////////////////////////////////////////////////////////////////////////////////"
      ]
    },
    {
      "cell_type": "markdown",
      "metadata": {
        "id": "K3g5QY9PMVUa",
        "colab_type": "text"
      },
      "source": [
        "**NORTHERN CALIFORNIA**\n",
        "\n"
      ]
    },
    {
      "cell_type": "markdown",
      "metadata": {
        "id": "NqdqIwdGjjol",
        "colab_type": "text"
      },
      "source": [
        "SELECTING TURBINES BETWEEN LATITUDE 37 AND 40.92     --   NORTHERN CALIFORNIA"
      ]
    },
    {
      "cell_type": "code",
      "metadata": {
        "id": "L9TGvOWs_fgN",
        "colab_type": "code",
        "colab": {}
      },
      "source": [
        "cali_north=wind_cali[(wind_cali['Latitude']>37) & (wind_cali['Latitude']<40.92)]"
      ],
      "execution_count": 0,
      "outputs": []
    },
    {
      "cell_type": "code",
      "metadata": {
        "id": "7PZDMONH_oDM",
        "colab_type": "code",
        "outputId": "61df2f8b-aaa2-4ec3-9fd8-a42107512a47",
        "colab": {
          "base_uri": "https://localhost:8080/",
          "height": 34
        }
      },
      "source": [
        "cali_north.shape"
      ],
      "execution_count": 22,
      "outputs": [
        {
          "output_type": "execute_result",
          "data": {
            "text/plain": [
              "(1191, 16)"
            ]
          },
          "metadata": {
            "tags": []
          },
          "execution_count": 22
        }
      ]
    },
    {
      "cell_type": "markdown",
      "metadata": {
        "id": "62q0Iq4hj5eQ",
        "colab_type": "text"
      },
      "source": [
        "RANDOMLY SELECT 30 TURBINES FROM NORTHERN CALI SUBSET"
      ]
    },
    {
      "cell_type": "code",
      "metadata": {
        "id": "nAvE3YRSlP9I",
        "colab_type": "code",
        "colab": {}
      },
      "source": [
        "cn=cali_north.sample(30,random_state=1)"
      ],
      "execution_count": 0,
      "outputs": []
    },
    {
      "cell_type": "markdown",
      "metadata": {
        "id": "4ZbsSW9mIgzb",
        "colab_type": "text"
      },
      "source": [
        "///////////////////////////////////////////////////////////////////////////////////////////////"
      ]
    },
    {
      "cell_type": "code",
      "metadata": {
        "id": "c2PIE1Bd_9y4",
        "colab_type": "code",
        "outputId": "08b2bc23-52af-4b83-8508-8c8895df3190",
        "colab": {
          "base_uri": "https://localhost:8080/",
          "height": 34
        }
      },
      "source": [
        "cn['Max Turbine Capacity'].sum()"
      ],
      "execution_count": 24,
      "outputs": [
        {
          "output_type": "execute_result",
          "data": {
            "text/plain": [
              "41585.0"
            ]
          },
          "metadata": {
            "tags": []
          },
          "execution_count": 24
        }
      ]
    },
    {
      "cell_type": "code",
      "metadata": {
        "id": "LXZl7BaS4nFi",
        "colab_type": "code",
        "colab": {}
      },
      "source": [
        "cn.at[13366,'Mean Capacity Factor']=30.1\n",
        "cn.at[45928,'Mean Capacity Factor']=39.9\n",
        "cn.at[23633,'Mean Capacity Factor']=23.2\n",
        "cn.at[46170,'Mean Capacity Factor']=36.3\n",
        "cn.at[45958,'Mean Capacity Factor']=40.5\n",
        "cn.at[33053,'Mean Capacity Factor']=17.8\n",
        "cn.at[21699,'Mean Capacity Factor']=12.6\n",
        "cn.at[47069,'Mean Capacity Factor']=39.3\n",
        "cn.at[33079,'Mean Capacity Factor']=36.4\n",
        "cn.at[21650,'Mean Capacity Factor']=17.5\n",
        "cn.at[14250,'Mean Capacity Factor']=34.2\n",
        "cn.at[21724,'Mean Capacity Factor']=34.4\n",
        "cn.at[46062,'Mean Capacity Factor']=40.1\n",
        "cn.at[45984,'Mean Capacity Factor']=40.5\n",
        "cn.at[46194,'Mean Capacity Factor']=34.5\n",
        "cn.at[46124,'Mean Capacity Factor']=34.5\n",
        "cn.at[18066,'Mean Capacity Factor']=31.3  #assigned section mean was 47.8\n",
        "cn.at[38010,'Mean Capacity Factor']=30.0\n",
        "cn.at[47087,'Mean Capacity Factor']=14.9\n",
        "cn.at[47072,'Mean Capacity Factor']=30.4\n",
        "cn.at[23632,'Mean Capacity Factor']=24.4\n",
        "cn.at[23625,'Mean Capacity Factor']=24.5\n",
        "cn.at[23645,'Mean Capacity Factor']=24.5\n",
        "cn.at[46157,'Mean Capacity Factor']=33.2\n",
        "cn.at[45966,'Mean Capacity Factor']=40.7\n",
        "cn.at[18024,'Mean Capacity Factor']=47.9\n",
        "cn.at[38091,'Mean Capacity Factor']=30.0\n",
        "cn.at[21686,'Mean Capacity Factor']=35.3\n",
        "cn.at[18077,'Mean Capacity Factor']=36.1\n",
        "cn.at[38136,'Mean Capacity Factor']=30.2"
      ],
      "execution_count": 0,
      "outputs": []
    },
    {
      "cell_type": "markdown",
      "metadata": {
        "id": "1xxYpkQvu9Ku",
        "colab_type": "text"
      },
      "source": [
        "DISPLAY DETAILS FOR ALL 30 RANDOMLY SELECTED NORTHERN CAL TURBINES"
      ]
    },
    {
      "cell_type": "code",
      "metadata": {
        "id": "4xo2Fd0mu_nN",
        "colab_type": "code",
        "outputId": "73edbff9-671a-4194-ca7d-73bf5cbafec9",
        "colab": {
          "base_uri": "https://localhost:8080/",
          "height": 1000
        }
      },
      "source": [
        "cn"
      ],
      "execution_count": 26,
      "outputs": [
        {
          "output_type": "execute_result",
          "data": {
            "text/html": [
              "<div>\n",
              "<style scoped>\n",
              "    .dataframe tbody tr th:only-of-type {\n",
              "        vertical-align: middle;\n",
              "    }\n",
              "\n",
              "    .dataframe tbody tr th {\n",
              "        vertical-align: top;\n",
              "    }\n",
              "\n",
              "    .dataframe thead th {\n",
              "        text-align: right;\n",
              "    }\n",
              "</style>\n",
              "<table border=\"1\" class=\"dataframe\">\n",
              "  <thead>\n",
              "    <tr style=\"text-align: right;\">\n",
              "      <th></th>\n",
              "      <th>CaseID</th>\n",
              "      <th>State</th>\n",
              "      <th>County</th>\n",
              "      <th>LocationID</th>\n",
              "      <th>Project Name</th>\n",
              "      <th>Year Built</th>\n",
              "      <th>Number of Turbines</th>\n",
              "      <th>Max Project Capacity</th>\n",
              "      <th>Turbine Manufacturer</th>\n",
              "      <th>Turbine Model</th>\n",
              "      <th>Max Turbine Capacity</th>\n",
              "      <th>Tower Hub Height</th>\n",
              "      <th>Rotor Diameter</th>\n",
              "      <th>Longitude</th>\n",
              "      <th>Latitude</th>\n",
              "      <th>Mean Capacity Factor</th>\n",
              "    </tr>\n",
              "  </thead>\n",
              "  <tbody>\n",
              "    <tr>\n",
              "      <th>13366</th>\n",
              "      <td>3020543</td>\n",
              "      <td>CA</td>\n",
              "      <td>Alameda County</td>\n",
              "      <td>6001</td>\n",
              "      <td>Diablo Winds</td>\n",
              "      <td>2004.0</td>\n",
              "      <td>31</td>\n",
              "      <td>20.460</td>\n",
              "      <td>Vestas</td>\n",
              "      <td>V47-0.66</td>\n",
              "      <td>660.0</td>\n",
              "      <td>60.0</td>\n",
              "      <td>47.0</td>\n",
              "      <td>-121.625084</td>\n",
              "      <td>37.745895</td>\n",
              "      <td>30.1</td>\n",
              "    </tr>\n",
              "    <tr>\n",
              "      <th>45928</th>\n",
              "      <td>3028682</td>\n",
              "      <td>CA</td>\n",
              "      <td>Solano County</td>\n",
              "      <td>6095</td>\n",
              "      <td>Shiloh II</td>\n",
              "      <td>2009.0</td>\n",
              "      <td>33</td>\n",
              "      <td>66.000</td>\n",
              "      <td>REpower</td>\n",
              "      <td>MM92</td>\n",
              "      <td>2000.0</td>\n",
              "      <td>68.5</td>\n",
              "      <td>92.5</td>\n",
              "      <td>-121.840691</td>\n",
              "      <td>38.173996</td>\n",
              "      <td>39.9</td>\n",
              "    </tr>\n",
              "    <tr>\n",
              "      <th>23633</th>\n",
              "      <td>3004156</td>\n",
              "      <td>CA</td>\n",
              "      <td>Merced County</td>\n",
              "      <td>6047</td>\n",
              "      <td>International Turbine Research Center</td>\n",
              "      <td>1988.0</td>\n",
              "      <td>161</td>\n",
              "      <td>17.430</td>\n",
              "      <td>NaN</td>\n",
              "      <td>NaN</td>\n",
              "      <td>105.0</td>\n",
              "      <td>NaN</td>\n",
              "      <td>NaN</td>\n",
              "      <td>-121.194290</td>\n",
              "      <td>37.046196</td>\n",
              "      <td>23.2</td>\n",
              "    </tr>\n",
              "    <tr>\n",
              "      <th>46170</th>\n",
              "      <td>3016948</td>\n",
              "      <td>CA</td>\n",
              "      <td>Solano County</td>\n",
              "      <td>6095</td>\n",
              "      <td>Shiloh Wind Project</td>\n",
              "      <td>2006.0</td>\n",
              "      <td>76</td>\n",
              "      <td>114.000</td>\n",
              "      <td>GE Wind</td>\n",
              "      <td>GE1.5-77</td>\n",
              "      <td>1500.0</td>\n",
              "      <td>80.0</td>\n",
              "      <td>77.0</td>\n",
              "      <td>-121.827583</td>\n",
              "      <td>38.162395</td>\n",
              "      <td>36.3</td>\n",
              "    </tr>\n",
              "    <tr>\n",
              "      <th>45958</th>\n",
              "      <td>3028700</td>\n",
              "      <td>CA</td>\n",
              "      <td>Solano County</td>\n",
              "      <td>6095</td>\n",
              "      <td>Shiloh II</td>\n",
              "      <td>2009.0</td>\n",
              "      <td>42</td>\n",
              "      <td>84.000</td>\n",
              "      <td>REpower</td>\n",
              "      <td>MM92</td>\n",
              "      <td>2000.0</td>\n",
              "      <td>80.0</td>\n",
              "      <td>92.5</td>\n",
              "      <td>-121.769989</td>\n",
              "      <td>38.163994</td>\n",
              "      <td>40.5</td>\n",
              "    </tr>\n",
              "    <tr>\n",
              "      <th>33053</th>\n",
              "      <td>3036696</td>\n",
              "      <td>CA</td>\n",
              "      <td>Solano County</td>\n",
              "      <td>6095</td>\n",
              "      <td>Montezuma</td>\n",
              "      <td>2010.0</td>\n",
              "      <td>16</td>\n",
              "      <td>36.800</td>\n",
              "      <td>Siemens</td>\n",
              "      <td>SWT-2.3-93</td>\n",
              "      <td>2300.0</td>\n",
              "      <td>80.0</td>\n",
              "      <td>93.0</td>\n",
              "      <td>-121.792885</td>\n",
              "      <td>38.152195</td>\n",
              "      <td>17.8</td>\n",
              "    </tr>\n",
              "    <tr>\n",
              "      <th>21699</th>\n",
              "      <td>3071498</td>\n",
              "      <td>CA</td>\n",
              "      <td>Solano County</td>\n",
              "      <td>6095</td>\n",
              "      <td>High Winds</td>\n",
              "      <td>2003.0</td>\n",
              "      <td>90</td>\n",
              "      <td>162.000</td>\n",
              "      <td>Vestas</td>\n",
              "      <td>V80-1.8</td>\n",
              "      <td>1800.0</td>\n",
              "      <td>60.0</td>\n",
              "      <td>80.0</td>\n",
              "      <td>-121.801735</td>\n",
              "      <td>38.100502</td>\n",
              "      <td>12.6</td>\n",
              "    </tr>\n",
              "    <tr>\n",
              "      <th>47069</th>\n",
              "      <td>3025436</td>\n",
              "      <td>CA</td>\n",
              "      <td>Solano County</td>\n",
              "      <td>6095</td>\n",
              "      <td>Solano Wind Project</td>\n",
              "      <td>2007.0</td>\n",
              "      <td>21</td>\n",
              "      <td>63.000</td>\n",
              "      <td>Vestas</td>\n",
              "      <td>V90-3.0</td>\n",
              "      <td>3000.0</td>\n",
              "      <td>80.0</td>\n",
              "      <td>90.0</td>\n",
              "      <td>-121.760490</td>\n",
              "      <td>38.108395</td>\n",
              "      <td>39.3</td>\n",
              "    </tr>\n",
              "    <tr>\n",
              "      <th>33079</th>\n",
              "      <td>3040370</td>\n",
              "      <td>CA</td>\n",
              "      <td>Solano County</td>\n",
              "      <td>6095</td>\n",
              "      <td>Montezuma Winds II</td>\n",
              "      <td>2012.0</td>\n",
              "      <td>34</td>\n",
              "      <td>78.200</td>\n",
              "      <td>Siemens</td>\n",
              "      <td>SWT-2.3-93</td>\n",
              "      <td>2300.0</td>\n",
              "      <td>80.0</td>\n",
              "      <td>93.0</td>\n",
              "      <td>-121.809586</td>\n",
              "      <td>38.116894</td>\n",
              "      <td>36.4</td>\n",
              "    </tr>\n",
              "    <tr>\n",
              "      <th>21650</th>\n",
              "      <td>3011420</td>\n",
              "      <td>CA</td>\n",
              "      <td>Solano County</td>\n",
              "      <td>6095</td>\n",
              "      <td>High Winds</td>\n",
              "      <td>2003.0</td>\n",
              "      <td>90</td>\n",
              "      <td>162.000</td>\n",
              "      <td>Vestas</td>\n",
              "      <td>V80-1.8</td>\n",
              "      <td>1800.0</td>\n",
              "      <td>60.0</td>\n",
              "      <td>80.0</td>\n",
              "      <td>-121.789688</td>\n",
              "      <td>38.142094</td>\n",
              "      <td>17.5</td>\n",
              "    </tr>\n",
              "    <tr>\n",
              "      <th>14250</th>\n",
              "      <td>3071464</td>\n",
              "      <td>CA</td>\n",
              "      <td>Solano County</td>\n",
              "      <td>6095</td>\n",
              "      <td>EDF Renewable V</td>\n",
              "      <td>1990.0</td>\n",
              "      <td>78</td>\n",
              "      <td>16.200</td>\n",
              "      <td>Kenetech</td>\n",
              "      <td>KCS56-100</td>\n",
              "      <td>100.0</td>\n",
              "      <td>NaN</td>\n",
              "      <td>17.0</td>\n",
              "      <td>-121.809723</td>\n",
              "      <td>38.082649</td>\n",
              "      <td>34.2</td>\n",
              "    </tr>\n",
              "    <tr>\n",
              "      <th>21724</th>\n",
              "      <td>3071191</td>\n",
              "      <td>CA</td>\n",
              "      <td>Solano County</td>\n",
              "      <td>6095</td>\n",
              "      <td>High Winds</td>\n",
              "      <td>2003.0</td>\n",
              "      <td>90</td>\n",
              "      <td>162.000</td>\n",
              "      <td>Vestas</td>\n",
              "      <td>V80-1.8</td>\n",
              "      <td>1800.0</td>\n",
              "      <td>60.0</td>\n",
              "      <td>80.0</td>\n",
              "      <td>-121.784126</td>\n",
              "      <td>38.142296</td>\n",
              "      <td>34.4</td>\n",
              "    </tr>\n",
              "    <tr>\n",
              "      <th>46062</th>\n",
              "      <td>3043783</td>\n",
              "      <td>CA</td>\n",
              "      <td>Solano County</td>\n",
              "      <td>6095</td>\n",
              "      <td>Shiloh IV</td>\n",
              "      <td>2012.0</td>\n",
              "      <td>5</td>\n",
              "      <td>10.250</td>\n",
              "      <td>REpower</td>\n",
              "      <td>MM92</td>\n",
              "      <td>2050.0</td>\n",
              "      <td>68.5</td>\n",
              "      <td>92.5</td>\n",
              "      <td>-121.872688</td>\n",
              "      <td>38.145294</td>\n",
              "      <td>40.1</td>\n",
              "    </tr>\n",
              "    <tr>\n",
              "      <th>45984</th>\n",
              "      <td>3029536</td>\n",
              "      <td>CA</td>\n",
              "      <td>Solano County</td>\n",
              "      <td>6095</td>\n",
              "      <td>Shiloh II</td>\n",
              "      <td>2009.0</td>\n",
              "      <td>42</td>\n",
              "      <td>84.000</td>\n",
              "      <td>REpower</td>\n",
              "      <td>MM92</td>\n",
              "      <td>2000.0</td>\n",
              "      <td>80.0</td>\n",
              "      <td>92.5</td>\n",
              "      <td>-121.763985</td>\n",
              "      <td>38.132793</td>\n",
              "      <td>40.5</td>\n",
              "    </tr>\n",
              "    <tr>\n",
              "      <th>46194</th>\n",
              "      <td>3017001</td>\n",
              "      <td>CA</td>\n",
              "      <td>Solano County</td>\n",
              "      <td>6095</td>\n",
              "      <td>Shiloh Wind Project</td>\n",
              "      <td>2006.0</td>\n",
              "      <td>76</td>\n",
              "      <td>114.000</td>\n",
              "      <td>GE Wind</td>\n",
              "      <td>GE1.5-77</td>\n",
              "      <td>1500.0</td>\n",
              "      <td>80.0</td>\n",
              "      <td>77.0</td>\n",
              "      <td>-121.862083</td>\n",
              "      <td>38.164097</td>\n",
              "      <td>34.5</td>\n",
              "    </tr>\n",
              "    <tr>\n",
              "      <th>46124</th>\n",
              "      <td>3016928</td>\n",
              "      <td>CA</td>\n",
              "      <td>Solano County</td>\n",
              "      <td>6095</td>\n",
              "      <td>Shiloh Wind Project</td>\n",
              "      <td>2006.0</td>\n",
              "      <td>76</td>\n",
              "      <td>114.000</td>\n",
              "      <td>GE Wind</td>\n",
              "      <td>GE1.5-77</td>\n",
              "      <td>1500.0</td>\n",
              "      <td>80.0</td>\n",
              "      <td>77.0</td>\n",
              "      <td>-121.882988</td>\n",
              "      <td>38.144096</td>\n",
              "      <td>34.5</td>\n",
              "    </tr>\n",
              "    <tr>\n",
              "      <th>18066</th>\n",
              "      <td>3055811</td>\n",
              "      <td>CA</td>\n",
              "      <td>Alameda County</td>\n",
              "      <td>6001</td>\n",
              "      <td>Golden Hills</td>\n",
              "      <td>2015.0</td>\n",
              "      <td>48</td>\n",
              "      <td>85.900</td>\n",
              "      <td>GE Wind</td>\n",
              "      <td>GE1.7-100</td>\n",
              "      <td>1700.0</td>\n",
              "      <td>80.0</td>\n",
              "      <td>100.0</td>\n",
              "      <td>-121.604820</td>\n",
              "      <td>37.726204</td>\n",
              "      <td>31.3</td>\n",
              "    </tr>\n",
              "    <tr>\n",
              "      <th>38010</th>\n",
              "      <td>3011432</td>\n",
              "      <td>CA</td>\n",
              "      <td>Alameda County</td>\n",
              "      <td>6001</td>\n",
              "      <td>Patterson Pass</td>\n",
              "      <td>1985.0</td>\n",
              "      <td>201</td>\n",
              "      <td>13.065</td>\n",
              "      <td>Bonus</td>\n",
              "      <td>NaN</td>\n",
              "      <td>65.0</td>\n",
              "      <td>24.6</td>\n",
              "      <td>16.0</td>\n",
              "      <td>-121.613609</td>\n",
              "      <td>37.688629</td>\n",
              "      <td>30.0</td>\n",
              "    </tr>\n",
              "    <tr>\n",
              "      <th>47087</th>\n",
              "      <td>3013678</td>\n",
              "      <td>CA</td>\n",
              "      <td>Solano County</td>\n",
              "      <td>6095</td>\n",
              "      <td>Solano Wind Project, Phase I</td>\n",
              "      <td>2003.0</td>\n",
              "      <td>15</td>\n",
              "      <td>9.900</td>\n",
              "      <td>Vestas</td>\n",
              "      <td>V47-0.66</td>\n",
              "      <td>660.0</td>\n",
              "      <td>50.0</td>\n",
              "      <td>47.0</td>\n",
              "      <td>-121.767586</td>\n",
              "      <td>38.124393</td>\n",
              "      <td>14.9</td>\n",
              "    </tr>\n",
              "    <tr>\n",
              "      <th>47072</th>\n",
              "      <td>3025435</td>\n",
              "      <td>CA</td>\n",
              "      <td>Solano County</td>\n",
              "      <td>6095</td>\n",
              "      <td>Solano Wind Project</td>\n",
              "      <td>2007.0</td>\n",
              "      <td>21</td>\n",
              "      <td>63.000</td>\n",
              "      <td>Vestas</td>\n",
              "      <td>V90-3.0</td>\n",
              "      <td>3000.0</td>\n",
              "      <td>80.0</td>\n",
              "      <td>90.0</td>\n",
              "      <td>-121.760788</td>\n",
              "      <td>38.110294</td>\n",
              "      <td>30.4</td>\n",
              "    </tr>\n",
              "    <tr>\n",
              "      <th>23632</th>\n",
              "      <td>3011352</td>\n",
              "      <td>CA</td>\n",
              "      <td>Merced County</td>\n",
              "      <td>6047</td>\n",
              "      <td>International Turbine Research Center</td>\n",
              "      <td>1988.0</td>\n",
              "      <td>161</td>\n",
              "      <td>17.430</td>\n",
              "      <td>NaN</td>\n",
              "      <td>NaN</td>\n",
              "      <td>105.0</td>\n",
              "      <td>NaN</td>\n",
              "      <td>NaN</td>\n",
              "      <td>-121.177086</td>\n",
              "      <td>37.033295</td>\n",
              "      <td>24.4</td>\n",
              "    </tr>\n",
              "    <tr>\n",
              "      <th>23625</th>\n",
              "      <td>3005796</td>\n",
              "      <td>CA</td>\n",
              "      <td>Merced County</td>\n",
              "      <td>6047</td>\n",
              "      <td>International Turbine Research Center</td>\n",
              "      <td>1988.0</td>\n",
              "      <td>161</td>\n",
              "      <td>17.430</td>\n",
              "      <td>NaN</td>\n",
              "      <td>NaN</td>\n",
              "      <td>105.0</td>\n",
              "      <td>NaN</td>\n",
              "      <td>NaN</td>\n",
              "      <td>-121.176613</td>\n",
              "      <td>37.045204</td>\n",
              "      <td>24.5</td>\n",
              "    </tr>\n",
              "    <tr>\n",
              "      <th>23645</th>\n",
              "      <td>3002043</td>\n",
              "      <td>CA</td>\n",
              "      <td>Merced County</td>\n",
              "      <td>6047</td>\n",
              "      <td>International Turbine Research Center</td>\n",
              "      <td>1988.0</td>\n",
              "      <td>161</td>\n",
              "      <td>17.430</td>\n",
              "      <td>NaN</td>\n",
              "      <td>NaN</td>\n",
              "      <td>105.0</td>\n",
              "      <td>NaN</td>\n",
              "      <td>NaN</td>\n",
              "      <td>-121.178139</td>\n",
              "      <td>37.050671</td>\n",
              "      <td>24.5</td>\n",
              "    </tr>\n",
              "    <tr>\n",
              "      <th>46157</th>\n",
              "      <td>3016955</td>\n",
              "      <td>CA</td>\n",
              "      <td>Solano County</td>\n",
              "      <td>6095</td>\n",
              "      <td>Shiloh Wind Project</td>\n",
              "      <td>2006.0</td>\n",
              "      <td>24</td>\n",
              "      <td>36.000</td>\n",
              "      <td>GE Wind</td>\n",
              "      <td>GE1.5-77</td>\n",
              "      <td>1500.0</td>\n",
              "      <td>65.0</td>\n",
              "      <td>77.0</td>\n",
              "      <td>-121.836990</td>\n",
              "      <td>38.161797</td>\n",
              "      <td>33.2</td>\n",
              "    </tr>\n",
              "    <tr>\n",
              "      <th>45966</th>\n",
              "      <td>3028678</td>\n",
              "      <td>CA</td>\n",
              "      <td>Solano County</td>\n",
              "      <td>6095</td>\n",
              "      <td>Shiloh II</td>\n",
              "      <td>2009.0</td>\n",
              "      <td>33</td>\n",
              "      <td>66.000</td>\n",
              "      <td>REpower</td>\n",
              "      <td>MM92</td>\n",
              "      <td>2000.0</td>\n",
              "      <td>68.5</td>\n",
              "      <td>92.5</td>\n",
              "      <td>-121.862984</td>\n",
              "      <td>38.188793</td>\n",
              "      <td>40.7</td>\n",
              "    </tr>\n",
              "    <tr>\n",
              "      <th>18024</th>\n",
              "      <td>3053985</td>\n",
              "      <td>CA</td>\n",
              "      <td>Alameda County</td>\n",
              "      <td>6001</td>\n",
              "      <td>Golden Hills</td>\n",
              "      <td>2015.0</td>\n",
              "      <td>48</td>\n",
              "      <td>85.900</td>\n",
              "      <td>GE Wind</td>\n",
              "      <td>GE1.7-100</td>\n",
              "      <td>1700.0</td>\n",
              "      <td>80.0</td>\n",
              "      <td>100.0</td>\n",
              "      <td>-121.624817</td>\n",
              "      <td>37.719265</td>\n",
              "      <td>47.9</td>\n",
              "    </tr>\n",
              "    <tr>\n",
              "      <th>38091</th>\n",
              "      <td>3006005</td>\n",
              "      <td>CA</td>\n",
              "      <td>Alameda County</td>\n",
              "      <td>6001</td>\n",
              "      <td>Patterson Pass</td>\n",
              "      <td>1985.0</td>\n",
              "      <td>201</td>\n",
              "      <td>13.065</td>\n",
              "      <td>Bonus</td>\n",
              "      <td>NaN</td>\n",
              "      <td>65.0</td>\n",
              "      <td>24.6</td>\n",
              "      <td>16.0</td>\n",
              "      <td>-121.613556</td>\n",
              "      <td>37.689518</td>\n",
              "      <td>30.0</td>\n",
              "    </tr>\n",
              "    <tr>\n",
              "      <th>21686</th>\n",
              "      <td>3073736</td>\n",
              "      <td>CA</td>\n",
              "      <td>Solano County</td>\n",
              "      <td>6095</td>\n",
              "      <td>High Winds</td>\n",
              "      <td>2003.0</td>\n",
              "      <td>90</td>\n",
              "      <td>162.000</td>\n",
              "      <td>Vestas</td>\n",
              "      <td>V80-1.8</td>\n",
              "      <td>1800.0</td>\n",
              "      <td>60.0</td>\n",
              "      <td>80.0</td>\n",
              "      <td>-121.800484</td>\n",
              "      <td>38.102596</td>\n",
              "      <td>35.3</td>\n",
              "    </tr>\n",
              "    <tr>\n",
              "      <th>18077</th>\n",
              "      <td>3077475</td>\n",
              "      <td>CA</td>\n",
              "      <td>Alameda County</td>\n",
              "      <td>6001</td>\n",
              "      <td>Golden Hills North</td>\n",
              "      <td>2017.0</td>\n",
              "      <td>20</td>\n",
              "      <td>46.000</td>\n",
              "      <td>GE Wind</td>\n",
              "      <td>GE2.3-116</td>\n",
              "      <td>2300.0</td>\n",
              "      <td>80.0</td>\n",
              "      <td>116.0</td>\n",
              "      <td>-121.621140</td>\n",
              "      <td>37.756844</td>\n",
              "      <td>36.1</td>\n",
              "    </tr>\n",
              "    <tr>\n",
              "      <th>38136</th>\n",
              "      <td>3008868</td>\n",
              "      <td>CA</td>\n",
              "      <td>Alameda County</td>\n",
              "      <td>6001</td>\n",
              "      <td>Patterson Pass</td>\n",
              "      <td>1985.0</td>\n",
              "      <td>201</td>\n",
              "      <td>13.065</td>\n",
              "      <td>Bonus</td>\n",
              "      <td>NaN</td>\n",
              "      <td>65.0</td>\n",
              "      <td>24.6</td>\n",
              "      <td>16.0</td>\n",
              "      <td>-121.622330</td>\n",
              "      <td>37.698853</td>\n",
              "      <td>30.2</td>\n",
              "    </tr>\n",
              "  </tbody>\n",
              "</table>\n",
              "</div>"
            ],
            "text/plain": [
              "        CaseID State  ...   Latitude  Mean Capacity Factor\n",
              "13366  3020543    CA  ...  37.745895                  30.1\n",
              "45928  3028682    CA  ...  38.173996                  39.9\n",
              "23633  3004156    CA  ...  37.046196                  23.2\n",
              "46170  3016948    CA  ...  38.162395                  36.3\n",
              "45958  3028700    CA  ...  38.163994                  40.5\n",
              "33053  3036696    CA  ...  38.152195                  17.8\n",
              "21699  3071498    CA  ...  38.100502                  12.6\n",
              "47069  3025436    CA  ...  38.108395                  39.3\n",
              "33079  3040370    CA  ...  38.116894                  36.4\n",
              "21650  3011420    CA  ...  38.142094                  17.5\n",
              "14250  3071464    CA  ...  38.082649                  34.2\n",
              "21724  3071191    CA  ...  38.142296                  34.4\n",
              "46062  3043783    CA  ...  38.145294                  40.1\n",
              "45984  3029536    CA  ...  38.132793                  40.5\n",
              "46194  3017001    CA  ...  38.164097                  34.5\n",
              "46124  3016928    CA  ...  38.144096                  34.5\n",
              "18066  3055811    CA  ...  37.726204                  31.3\n",
              "38010  3011432    CA  ...  37.688629                  30.0\n",
              "47087  3013678    CA  ...  38.124393                  14.9\n",
              "47072  3025435    CA  ...  38.110294                  30.4\n",
              "23632  3011352    CA  ...  37.033295                  24.4\n",
              "23625  3005796    CA  ...  37.045204                  24.5\n",
              "23645  3002043    CA  ...  37.050671                  24.5\n",
              "46157  3016955    CA  ...  38.161797                  33.2\n",
              "45966  3028678    CA  ...  38.188793                  40.7\n",
              "18024  3053985    CA  ...  37.719265                  47.9\n",
              "38091  3006005    CA  ...  37.689518                  30.0\n",
              "21686  3073736    CA  ...  38.102596                  35.3\n",
              "18077  3077475    CA  ...  37.756844                  36.1\n",
              "38136  3008868    CA  ...  37.698853                  30.2\n",
              "\n",
              "[30 rows x 16 columns]"
            ]
          },
          "metadata": {
            "tags": []
          },
          "execution_count": 26
        }
      ]
    },
    {
      "cell_type": "markdown",
      "metadata": {
        "id": "drJDAbYZ9zfq",
        "colab_type": "text"
      },
      "source": [
        "**STATISTICAL ANALYSIS**"
      ]
    },
    {
      "cell_type": "markdown",
      "metadata": {
        "id": "fERLDu-Gvbvr",
        "colab_type": "text"
      },
      "source": [
        "HISTOGRAM OF MEAN CAPACITY FACTOR FOR EACH TURBINE IN NORTHERN CALIFORNIA SELECTION"
      ]
    },
    {
      "cell_type": "code",
      "metadata": {
        "id": "hgInih74veof",
        "colab_type": "code",
        "outputId": "05fc3ebd-865d-420f-cf61-ac9ece63168a",
        "colab": {
          "base_uri": "https://localhost:8080/",
          "height": 450
        }
      },
      "source": [
        "plt.hist(cn['Mean Capacity Factor'], alpha = .5,color='b',bins=50)"
      ],
      "execution_count": 27,
      "outputs": [
        {
          "output_type": "execute_result",
          "data": {
            "text/plain": [
              "(array([1., 0., 0., 1., 0., 0., 1., 1., 0., 0., 0., 0., 0., 0., 0., 1., 3.,\n",
              "        0., 0., 0., 0., 0., 0., 0., 4., 1., 1., 0., 0., 1., 2., 2., 1., 3.,\n",
              "        0., 0., 0., 1., 2., 3., 0., 0., 0., 0., 0., 0., 0., 0., 0., 1.]),\n",
              " array([12.6  , 13.306, 14.012, 14.718, 15.424, 16.13 , 16.836, 17.542,\n",
              "        18.248, 18.954, 19.66 , 20.366, 21.072, 21.778, 22.484, 23.19 ,\n",
              "        23.896, 24.602, 25.308, 26.014, 26.72 , 27.426, 28.132, 28.838,\n",
              "        29.544, 30.25 , 30.956, 31.662, 32.368, 33.074, 33.78 , 34.486,\n",
              "        35.192, 35.898, 36.604, 37.31 , 38.016, 38.722, 39.428, 40.134,\n",
              "        40.84 , 41.546, 42.252, 42.958, 43.664, 44.37 , 45.076, 45.782,\n",
              "        46.488, 47.194, 47.9  ]),\n",
              " <a list of 50 Patch objects>)"
            ]
          },
          "metadata": {
            "tags": []
          },
          "execution_count": 27
        },
        {
          "output_type": "display_data",
          "data": {
            "image/png": "[encoded data removed]",
            "text/plain": [
              "<Figure size 432x288 with 1 Axes>"
            ]
          },
          "metadata": {
            "tags": []
          }
        }
      ]
    },
    {
      "cell_type": "markdown",
      "metadata": {
        "id": "nd5t3oaOvw59",
        "colab_type": "text"
      },
      "source": [
        "HISTOGRAM OF MEAN CAPACITY FACTOR FOR EACH TURBINE IN SOUTHERN CALIFORNIA SELECTION"
      ]
    },
    {
      "cell_type": "code",
      "metadata": {
        "id": "LsmISZn3v31p",
        "colab_type": "code",
        "outputId": "e1b1ebe0-6021-49cb-cd3b-3e3ed11faeda",
        "colab": {
          "base_uri": "https://localhost:8080/",
          "height": 466
        }
      },
      "source": [
        "plt.hist(cs['Mean Capacity Factor'], alpha = .5,color='k',bins=50)"
      ],
      "execution_count": 28,
      "outputs": [
        {
          "output_type": "execute_result",
          "data": {
            "text/plain": [
              "(array([1., 0., 1., 0., 0., 0., 0., 0., 0., 0., 4., 2., 1., 3., 2., 1., 1.,\n",
              "        0., 1., 0., 6., 0., 0., 1., 1., 0., 0., 2., 0., 0., 0., 0., 0., 0.,\n",
              "        0., 0., 1., 0., 0., 0., 0., 0., 0., 0., 0., 0., 0., 0., 0., 2.]),\n",
              " array([ 9.23  ,  9.5634,  9.8968, 10.2302, 10.5636, 10.897 , 11.2304,\n",
              "        11.5638, 11.8972, 12.2306, 12.564 , 12.8974, 13.2308, 13.5642,\n",
              "        13.8976, 14.231 , 14.5644, 14.8978, 15.2312, 15.5646, 15.898 ,\n",
              "        16.2314, 16.5648, 16.8982, 17.2316, 17.565 , 17.8984, 18.2318,\n",
              "        18.5652, 18.8986, 19.232 , 19.5654, 19.8988, 20.2322, 20.5656,\n",
              "        20.899 , 21.2324, 21.5658, 21.8992, 22.2326, 22.566 , 22.8994,\n",
              "        23.2328, 23.5662, 23.8996, 24.233 , 24.5664, 24.8998, 25.2332,\n",
              "        25.5666, 25.9   ]),\n",
              " <a list of 50 Patch objects>)"
            ]
          },
          "metadata": {
            "tags": []
          },
          "execution_count": 28
        },
        {
          "output_type": "display_data",
          "data": {
            "image/png": "[encoded data removed]",
            "text/plain": [
              "<Figure size 432x288 with 1 Axes>"
            ]
          },
          "metadata": {
            "tags": []
          }
        }
      ]
    },
    {
      "cell_type": "markdown",
      "metadata": {
        "id": "OwhbQpyZOVx2",
        "colab_type": "text"
      },
      "source": [
        "Based on skew and kurtosis northern California  data is normally distributed"
      ]
    },
    {
      "cell_type": "code",
      "metadata": {
        "id": "rGwKptKOpNwk",
        "colab_type": "code",
        "outputId": "57cc2acf-2453-4f1c-958a-af4fc57b6dfe",
        "colab": {
          "base_uri": "https://localhost:8080/",
          "height": 34
        }
      },
      "source": [
        "stats.describe(cn['Mean Capacity Factor'])"
      ],
      "execution_count": 29,
      "outputs": [
        {
          "output_type": "execute_result",
          "data": {
            "text/plain": [
              "DescribeResult(nobs=30, minmax=(12.6, 47.9), mean=31.506666666666668, variance=71.83995402298851, skewness=-0.5458615099517913, kurtosis=-0.24654180294961048)"
            ]
          },
          "metadata": {
            "tags": []
          },
          "execution_count": 29
        }
      ]
    },
    {
      "cell_type": "markdown",
      "metadata": {
        "id": "6zegl56wO9Vf",
        "colab_type": "text"
      },
      "source": [
        "Based on skew and kurtosis southern California data is not normally distributed"
      ]
    },
    {
      "cell_type": "code",
      "metadata": {
        "id": "4BGCIw8yPWIq",
        "colab_type": "code",
        "outputId": "8cf8e9de-131d-4c13-9fad-26e8bf415e37",
        "colab": {
          "base_uri": "https://localhost:8080/",
          "height": 34
        }
      },
      "source": [
        "stats.describe(cs['Mean Capacity Factor'])"
      ],
      "execution_count": 0,
      "outputs": [
        {
          "output_type": "execute_result",
          "data": {
            "text/plain": [
              "DescribeResult(nobs=30, minmax=(9.23, 25.9), mean=15.487666666666666, variance=13.77373574712644, skewness=1.3051517151406484, kurtosis=1.9536340279259656)"
            ]
          },
          "metadata": {
            "tags": []
          },
          "execution_count": 157
        }
      ]
    },
    {
      "cell_type": "markdown",
      "metadata": {
        "id": "NYXlRyc0-cax",
        "colab_type": "text"
      },
      "source": [
        "APPLY SHAPIRO-WILKES TEST TO NORTHERN CALIFORNIA MEAN CAPACITY FACTORS -->NORMAL DISTRIBUTION"
      ]
    },
    {
      "cell_type": "code",
      "metadata": {
        "id": "5fyi3uvTv5hP",
        "colab_type": "code",
        "outputId": "fd777444-3751-4c66-beeb-ca38137dd625",
        "colab": {
          "base_uri": "https://localhost:8080/",
          "height": 34
        }
      },
      "source": [
        " stats.shapiro(cn['Mean Capacity Factor'])"
      ],
      "execution_count": 0,
      "outputs": [
        {
          "output_type": "execute_result",
          "data": {
            "text/plain": [
              "(0.94923996925354, 0.1613122522830963)"
            ]
          },
          "metadata": {
            "tags": []
          },
          "execution_count": 94
        }
      ]
    },
    {
      "cell_type": "markdown",
      "metadata": {
        "id": "zBJvq0lXNSJG",
        "colab_type": "text"
      },
      "source": [
        "APPLY SHAPIRO-WILKES TEST TO SOTHERN  CALIFORNIA MEAN CAPACITY FACTORS  --> NOT NORMAL DISTRIBUTION"
      ]
    },
    {
      "cell_type": "code",
      "metadata": {
        "id": "f4DAWtfWwtZS",
        "colab_type": "code",
        "outputId": "e1df5265-7ba5-43f3-f162-a6fc306f3303",
        "colab": {
          "base_uri": "https://localhost:8080/",
          "height": 34
        }
      },
      "source": [
        "stats.shapiro(cs['Mean Capacity Factor'])"
      ],
      "execution_count": 30,
      "outputs": [
        {
          "output_type": "execute_result",
          "data": {
            "text/plain": [
              "(0.8710892200469971, 0.001771549228578806)"
            ]
          },
          "metadata": {
            "tags": []
          },
          "execution_count": 30
        }
      ]
    },
    {
      "cell_type": "markdown",
      "metadata": {
        "id": "Mrh3VL1KQFK6",
        "colab_type": "text"
      },
      "source": [
        "SINCE BOTH DATA SETS DO NOT COME FROM NORMAL DISTRIBUTIONS -- APPLY SEVERAL NONPARAMETRIC TESTS \n",
        "\n",
        "THE RESULT OF EVERY nonparametric TEST TELLS US TO REJECT THE NULL"
      ]
    },
    {
      "cell_type": "markdown",
      "metadata": {
        "colab_type": "text",
        "id": "F6UEE_N6TNK5"
      },
      "source": [
        "The Mann-Whitney U test for comparing independent data samples: the nonparametric version of the Student t-test.\n",
        "\n",
        "\n",
        "The Wilcoxon signed-rank test for comparing paired data samples: the nonparametric version of the paired Student t-test.\n",
        "\n",
        "\n",
        "The Kruskal-Wallis H and Friedman tests for comparing more than two data samples: the nonparametric version of the ANOVA and repeated measures ANOVA tests."
      ]
    },
    {
      "cell_type": "markdown",
      "metadata": {
        "id": "Yh1Gm0qNWOhv",
        "colab_type": "text"
      },
      "source": [
        "Mood's median test is a special case of Pearson's chi-squared test. \n",
        "\n",
        "It is a nonparametric test that tests the null hypothesis that the medians of the populations from which two or more samples are drawn are identical."
      ]
    },
    {
      "cell_type": "markdown",
      "metadata": {
        "id": "QsTd4bcEV__c",
        "colab_type": "text"
      },
      "source": [
        "APPLY KOLMOGOROV–SMIRNOV TEST"
      ]
    },
    {
      "cell_type": "code",
      "metadata": {
        "id": "wOusVfnSWFOv",
        "colab_type": "code",
        "outputId": "a84b3d8e-6ac7-4e03-d2ee-177a14ba88f2",
        "colab": {
          "base_uri": "https://localhost:8080/",
          "height": 34
        }
      },
      "source": [
        "ks_2samp(cn['Mean Capacity Factor'],cs['Mean Capacity Factor'])"
      ],
      "execution_count": 31,
      "outputs": [
        {
          "output_type": "execute_result",
          "data": {
            "text/plain": [
              "Ks_2sampResult(statistic=0.8, pvalue=8.466416460035895e-10)"
            ]
          },
          "metadata": {
            "tags": []
          },
          "execution_count": 31
        }
      ]
    },
    {
      "cell_type": "markdown",
      "metadata": {
        "id": "LDNYN6_R54dd",
        "colab_type": "text"
      },
      "source": [
        "APPLY MOODY'S MEDIAN TEST"
      ]
    },
    {
      "cell_type": "code",
      "metadata": {
        "id": "2Kh0ArpE5-Ga",
        "colab_type": "code",
        "colab": {}
      },
      "source": [
        "from scipy.stats import median_test\n",
        "stat, p, med, tbl = median_test(cs['Mean Capacity Factor'],cn['Mean Capacity Factor'])"
      ],
      "execution_count": 0,
      "outputs": []
    },
    {
      "cell_type": "code",
      "metadata": {
        "id": "CSfi73xp6aw2",
        "colab_type": "code",
        "outputId": "6898501c-94d5-427e-d00a-355bfa21dc52",
        "colab": {
          "base_uri": "https://localhost:8080/",
          "height": 34
        }
      },
      "source": [
        "p"
      ],
      "execution_count": 33,
      "outputs": [
        {
          "output_type": "execute_result",
          "data": {
            "text/plain": [
              "5.887764274517283e-08"
            ]
          },
          "metadata": {
            "tags": []
          },
          "execution_count": 33
        }
      ]
    },
    {
      "cell_type": "markdown",
      "metadata": {
        "id": "zaOS20p2-AX7",
        "colab_type": "text"
      },
      "source": [
        "APPLY MANN-WHITNEY U TEST"
      ]
    },
    {
      "cell_type": "code",
      "metadata": {
        "id": "vqy4XPEP99sy",
        "colab_type": "code",
        "outputId": "e5717b25-c05e-4f49-b20d-13fee938850b",
        "colab": {
          "base_uri": "https://localhost:8080/",
          "height": 34
        }
      },
      "source": [
        "from scipy.stats import mannwhitneyu\n",
        "mannwhitneyu(cs['Mean Capacity Factor'],cn['Mean Capacity Factor'])"
      ],
      "execution_count": 34,
      "outputs": [
        {
          "output_type": "execute_result",
          "data": {
            "text/plain": [
              "MannwhitneyuResult(statistic=60.0, pvalue=4.200356145410573e-09)"
            ]
          },
          "metadata": {
            "tags": []
          },
          "execution_count": 34
        }
      ]
    },
    {
      "cell_type": "markdown",
      "metadata": {
        "id": "yX9997YB-CJx",
        "colab_type": "text"
      },
      "source": [
        "CORRELATION"
      ]
    },
    {
      "cell_type": "markdown",
      "metadata": {
        "id": "0SYnvc7UmmkC",
        "colab_type": "text"
      },
      "source": [
        "NORTHERN CAL"
      ]
    },
    {
      "cell_type": "code",
      "metadata": {
        "id": "Wm3AEnzd-ATb",
        "colab_type": "code",
        "outputId": "226ac1ab-7a81-4b2b-aedc-9618f58c0e01",
        "colab": {
          "base_uri": "https://localhost:8080/",
          "height": 166
        }
      },
      "source": [
        "cn_sub=cn[['Max Turbine Capacity','Tower Hub Height','Mean Capacity Factor','Rotor Diameter']]\n",
        "cn_sub.corr()"
      ],
      "execution_count": 35,
      "outputs": [
        {
          "output_type": "execute_result",
          "data": {
            "text/html": [
              "<div>\n",
              "<style scoped>\n",
              "    .dataframe tbody tr th:only-of-type {\n",
              "        vertical-align: middle;\n",
              "    }\n",
              "\n",
              "    .dataframe tbody tr th {\n",
              "        vertical-align: top;\n",
              "    }\n",
              "\n",
              "    .dataframe thead th {\n",
              "        text-align: right;\n",
              "    }\n",
              "</style>\n",
              "<table border=\"1\" class=\"dataframe\">\n",
              "  <thead>\n",
              "    <tr style=\"text-align: right;\">\n",
              "      <th></th>\n",
              "      <th>Max Turbine Capacity</th>\n",
              "      <th>Tower Hub Height</th>\n",
              "      <th>Mean Capacity Factor</th>\n",
              "      <th>Rotor Diameter</th>\n",
              "    </tr>\n",
              "  </thead>\n",
              "  <tbody>\n",
              "    <tr>\n",
              "      <th>Max Turbine Capacity</th>\n",
              "      <td>1.000000</td>\n",
              "      <td>0.827288</td>\n",
              "      <td>0.363551</td>\n",
              "      <td>0.907286</td>\n",
              "    </tr>\n",
              "    <tr>\n",
              "      <th>Tower Hub Height</th>\n",
              "      <td>0.827288</td>\n",
              "      <td>1.000000</td>\n",
              "      <td>0.349623</td>\n",
              "      <td>0.905541</td>\n",
              "    </tr>\n",
              "    <tr>\n",
              "      <th>Mean Capacity Factor</th>\n",
              "      <td>0.363551</td>\n",
              "      <td>0.349623</td>\n",
              "      <td>1.000000</td>\n",
              "      <td>0.293995</td>\n",
              "    </tr>\n",
              "    <tr>\n",
              "      <th>Rotor Diameter</th>\n",
              "      <td>0.907286</td>\n",
              "      <td>0.905541</td>\n",
              "      <td>0.293995</td>\n",
              "      <td>1.000000</td>\n",
              "    </tr>\n",
              "  </tbody>\n",
              "</table>\n",
              "</div>"
            ],
            "text/plain": [
              "                      Max Turbine Capacity  ...  Rotor Diameter\n",
              "Max Turbine Capacity              1.000000  ...        0.907286\n",
              "Tower Hub Height                  0.827288  ...        0.905541\n",
              "Mean Capacity Factor              0.363551  ...        0.293995\n",
              "Rotor Diameter                    0.907286  ...        1.000000\n",
              "\n",
              "[4 rows x 4 columns]"
            ]
          },
          "metadata": {
            "tags": []
          },
          "execution_count": 35
        }
      ]
    },
    {
      "cell_type": "code",
      "metadata": {
        "id": "EXlHsN-Vxuqs",
        "colab_type": "code",
        "colab": {}
      },
      "source": [
        "#g = sns.PairGrid(cn)\n",
        "#g = g.map(plt.scatter)"
      ],
      "execution_count": 0,
      "outputs": []
    },
    {
      "cell_type": "markdown",
      "metadata": {
        "id": "O-E5NmMSmsNZ",
        "colab_type": "text"
      },
      "source": [
        "SOUTHERN CAL"
      ]
    },
    {
      "cell_type": "code",
      "metadata": {
        "id": "eAZuRf9m-Y6W",
        "colab_type": "code",
        "outputId": "01254fa7-55e8-4079-e922-7b5e996e80f3",
        "colab": {
          "base_uri": "https://localhost:8080/",
          "height": 166
        }
      },
      "source": [
        "cs_sub=cs[['Max Turbine Capacity','Tower Hub Height','Mean Capacity Factor','Rotor Diameter']]\n",
        "cs_sub.corr()"
      ],
      "execution_count": 36,
      "outputs": [
        {
          "output_type": "execute_result",
          "data": {
            "text/html": [
              "<div>\n",
              "<style scoped>\n",
              "    .dataframe tbody tr th:only-of-type {\n",
              "        vertical-align: middle;\n",
              "    }\n",
              "\n",
              "    .dataframe tbody tr th {\n",
              "        vertical-align: top;\n",
              "    }\n",
              "\n",
              "    .dataframe thead th {\n",
              "        text-align: right;\n",
              "    }\n",
              "</style>\n",
              "<table border=\"1\" class=\"dataframe\">\n",
              "  <thead>\n",
              "    <tr style=\"text-align: right;\">\n",
              "      <th></th>\n",
              "      <th>Max Turbine Capacity</th>\n",
              "      <th>Tower Hub Height</th>\n",
              "      <th>Mean Capacity Factor</th>\n",
              "      <th>Rotor Diameter</th>\n",
              "    </tr>\n",
              "  </thead>\n",
              "  <tbody>\n",
              "    <tr>\n",
              "      <th>Max Turbine Capacity</th>\n",
              "      <td>1.000000</td>\n",
              "      <td>0.896134</td>\n",
              "      <td>0.648554</td>\n",
              "      <td>0.987290</td>\n",
              "    </tr>\n",
              "    <tr>\n",
              "      <th>Tower Hub Height</th>\n",
              "      <td>0.896134</td>\n",
              "      <td>1.000000</td>\n",
              "      <td>0.744164</td>\n",
              "      <td>0.934670</td>\n",
              "    </tr>\n",
              "    <tr>\n",
              "      <th>Mean Capacity Factor</th>\n",
              "      <td>0.648554</td>\n",
              "      <td>0.744164</td>\n",
              "      <td>1.000000</td>\n",
              "      <td>0.624165</td>\n",
              "    </tr>\n",
              "    <tr>\n",
              "      <th>Rotor Diameter</th>\n",
              "      <td>0.987290</td>\n",
              "      <td>0.934670</td>\n",
              "      <td>0.624165</td>\n",
              "      <td>1.000000</td>\n",
              "    </tr>\n",
              "  </tbody>\n",
              "</table>\n",
              "</div>"
            ],
            "text/plain": [
              "                      Max Turbine Capacity  ...  Rotor Diameter\n",
              "Max Turbine Capacity              1.000000  ...        0.987290\n",
              "Tower Hub Height                  0.896134  ...        0.934670\n",
              "Mean Capacity Factor              0.648554  ...        0.624165\n",
              "Rotor Diameter                    0.987290  ...        1.000000\n",
              "\n",
              "[4 rows x 4 columns]"
            ]
          },
          "metadata": {
            "tags": []
          },
          "execution_count": 36
        }
      ]
    },
    {
      "cell_type": "markdown",
      "metadata": {
        "id": "nIUg7BvOTvxy",
        "colab_type": "text"
      },
      "source": [
        "////////////////////////////////////////////////////////////////////////////////////////////////"
      ]
    },
    {
      "cell_type": "markdown",
      "metadata": {
        "id": "0ompyT1TQiOn",
        "colab_type": "text"
      },
      "source": [
        "GRAPH OF SPREAD AND RELATIONSHIP BEWEEN NORTHERN CAL MEAN CAPACITY FACTOR AND SOUTHERN CAL TOWER HUB HEIGHT"
      ]
    },
    {
      "cell_type": "markdown",
      "metadata": {
        "id": "Kjg5z24xR4Bl",
        "colab_type": "text"
      },
      "source": [
        "THE MEAN CAPACITY FACTOR IS PRIMARILY DEPENDENT ON TOWER HUB HEIGHT -- NOT TURBINE MAX CAPACITY\n",
        "\n",
        "THIS TELLS US THAT THE SKY IS THE LIMIT -- HIGHER TOWER HUB HEIGHT MEANS GREATER MEAN CAPACITY FACTOR\n",
        "\n",
        "THIS IS THE TAKEAWAY FROM THIS PROJECT\n",
        "\n",
        "\n"
      ]
    },
    {
      "cell_type": "markdown",
      "metadata": {
        "id": "-nFu4hMshbIv",
        "colab_type": "text"
      },
      "source": [
        "=========================================================================================\n"
      ]
    },
    {
      "cell_type": "markdown",
      "metadata": {
        "id": "pAyBqdcIjY_B",
        "colab_type": "text"
      },
      "source": [
        "**GRAPHS**"
      ]
    },
    {
      "cell_type": "markdown",
      "metadata": {
        "id": "LNetlxNUhXgq",
        "colab_type": "text"
      },
      "source": [
        "CREATE A NEW COLUMN  TO AID IN VISUALIZATION"
      ]
    },
    {
      "cell_type": "code",
      "metadata": {
        "id": "P6GLUBDdhyA3",
        "colab_type": "code",
        "colab": {}
      },
      "source": [
        "cn_north=cn\n",
        "#cn_north.drop(['compass='],axis=1,inplace=True)\n",
        "cn_north['section']='North'\n",
        "#cn_north.head()\n",
        "#cn_north.shape\n",
        "#list(cn_north)"
      ],
      "execution_count": 0,
      "outputs": []
    },
    {
      "cell_type": "code",
      "metadata": {
        "id": "SytkcKVTiJtI",
        "colab_type": "code",
        "colab": {}
      },
      "source": [
        "cs_south=cs\n",
        "cs_south['section']='South'\n",
        "cs_south.head()\n",
        "cs_south.shape"
      ],
      "execution_count": 0,
      "outputs": []
    },
    {
      "cell_type": "code",
      "metadata": {
        "id": "ZYz6eXwyjCCU",
        "colab_type": "code",
        "colab": {}
      },
      "source": [
        "cs_con=cs_south.append(cn_north, sort=False)"
      ],
      "execution_count": 0,
      "outputs": []
    },
    {
      "cell_type": "markdown",
      "metadata": {
        "id": "8vHBJs0kV3oM",
        "colab_type": "text"
      },
      "source": [
        "GRAPH OF MEANS AND 95% CI BEWEEN NORTHERN CAL AND SOUTH CAL TOWER HUB HEIGHT"
      ]
    },
    {
      "cell_type": "code",
      "metadata": {
        "id": "sewUg_1kyA1F",
        "colab_type": "code",
        "outputId": "2cd6a419-f5f4-44ef-83fc-13463b32b852",
        "colab": {
          "base_uri": "https://localhost:8080/",
          "height": 285
        }
      },
      "source": [
        "sns.set(style=\"darkgrid\")\n",
        "ax = sns.pointplot(x=\"section\", y=\"Tower Hub Height\", data=cs_con,color='magenta')"
      ],
      "execution_count": 0,
      "outputs": [
        {
          "output_type": "display_data",
          "data": {
            "image/png": "[encoded data removed]",
            "text/plain": [
              "<Figure size 432x288 with 1 Axes>"
            ]
          },
          "metadata": {
            "tags": []
          }
        }
      ]
    },
    {
      "cell_type": "markdown",
      "metadata": {
        "id": "ChR-N6UmY70R",
        "colab_type": "text"
      },
      "source": [
        "GRAPH OF MEANS AND 95% CI BEWEEN NORTHERN CAL MEAN CAPACITY FACTOR AND SOUTHERN CAL MAX TURBINE CAPACITY"
      ]
    },
    {
      "cell_type": "code",
      "metadata": {
        "id": "A7hscHfMX4Ko",
        "colab_type": "code",
        "outputId": "013b0de5-226d-40f4-82cd-1b09471a3664",
        "colab": {
          "base_uri": "https://localhost:8080/",
          "height": 285
        }
      },
      "source": [
        "sns.set(style=\"darkgrid\")\n",
        "ax = sns.pointplot(y=\"Max Turbine Capacity\", x=\"section\", data=cs_con,color='blue')\n"
      ],
      "execution_count": 0,
      "outputs": [
        {
          "output_type": "display_data",
          "data": {
            "image/png": "[encoded data removed]",
            "text/plain": [
              "<Figure size 432x288 with 1 Axes>"
            ]
          },
          "metadata": {
            "tags": []
          }
        }
      ]
    },
    {
      "cell_type": "markdown",
      "metadata": {
        "id": "Fdq1xiMrszzw",
        "colab_type": "text"
      },
      "source": [
        "GRAPH OF MEANS AND 95% CI  MEAN CAPACITY FACTOR  ROTOR DIAMETER"
      ]
    },
    {
      "cell_type": "code",
      "metadata": {
        "id": "oJ9V5bI7sjqw",
        "colab_type": "code",
        "outputId": "7dd4133f-1b49-4ee5-a28d-4b30a84f35f0",
        "colab": {
          "base_uri": "https://localhost:8080/",
          "height": 338
        }
      },
      "source": [
        "sns.set(style=\"darkgrid\")\n",
        "ax = sns.pointplot(y=\"Rotor Diameter\", x=\"section\", data=cs_con,color='K')"
      ],
      "execution_count": 0,
      "outputs": [
        {
          "output_type": "stream",
          "text": [
            "/usr/local/lib/python3.6/dist-packages/seaborn/palettes.py:246: MatplotlibDeprecationWarning: Support for uppercase single-letter colors is deprecated since Matplotlib 3.1 and will be removed in 3.3; please use lowercase instead.\n",
            "  palette = _ColorPalette(palette)\n"
          ],
          "name": "stderr"
        },
        {
          "output_type": "display_data",
          "data": {
            "image/png": "[encoded data removed]",
            "text/plain": [
              "<Figure size 432x288 with 1 Axes>"
            ]
          },
          "metadata": {
            "tags": []
          }
        }
      ]
    },
    {
      "cell_type": "code",
      "metadata": {
        "id": "4dcfIg2ypg5z",
        "colab_type": "code",
        "outputId": "925ecfbb-e7c2-44d4-bdb4-a1161e0b71ae",
        "colab": {
          "base_uri": "https://localhost:8080/",
          "height": 382
        }
      },
      "source": [
        "sns.catplot(x=\"section\",y=\"Mean Capacity Factor\",data=cs_con)"
      ],
      "execution_count": 0,
      "outputs": [
        {
          "output_type": "execute_result",
          "data": {
            "text/plain": [
              "<seaborn.axisgrid.FacetGrid at 0x7f83f82c5eb8>"
            ]
          },
          "metadata": {
            "tags": []
          },
          "execution_count": 176
        },
        {
          "output_type": "display_data",
          "data": {
            "image/png": "[encoded data removed]",
            "text/plain": [
              "<Figure size 360x360 with 1 Axes>"
            ]
          },
          "metadata": {
            "tags": []
          }
        }
      ]
    },
    {
      "cell_type": "code",
      "metadata": {
        "id": "FlkAkPg-XLNB",
        "colab_type": "code",
        "outputId": "aa66cc1a-60a0-4191-a83e-813f9a8f9b7c",
        "colab": {
          "base_uri": "https://localhost:8080/",
          "height": 285
        }
      },
      "source": [
        "sns.set(style=\"darkgrid\")\n",
        "ax = sns.lineplot(x=\"Tower Hub Height\", y=\"Max Turbine Capacity\", data=cs_con,color='blue')"
      ],
      "execution_count": 0,
      "outputs": [
        {
          "output_type": "display_data",
          "data": {
            "image/png": "[encoded data removed]",
            "text/plain": [
              "<Figure size 432x288 with 1 Axes>"
            ]
          },
          "metadata": {
            "tags": []
          }
        }
      ]
    },
    {
      "cell_type": "code",
      "metadata": {
        "id": "OxHLdFjmzVtX",
        "colab_type": "code",
        "outputId": "9f3deeb3-426b-4964-fe0d-62c99a3809d3",
        "colab": {
          "base_uri": "https://localhost:8080/",
          "height": 302
        }
      },
      "source": [
        "sns.lineplot(x=cs[\"Max Turbine Capacity\"],y=cs['Mean Capacity Factor'])"
      ],
      "execution_count": 0,
      "outputs": [
        {
          "output_type": "execute_result",
          "data": {
            "text/plain": [
              "<matplotlib.axes._subplots.AxesSubplot at 0x7f83f85456d8>"
            ]
          },
          "metadata": {
            "tags": []
          },
          "execution_count": 106
        },
        {
          "output_type": "display_data",
          "data": {
            "image/png": "[encoded data removed]",
            "text/plain": [
              "<Figure size 432x288 with 1 Axes>"
            ]
          },
          "metadata": {
            "tags": []
          }
        }
      ]
    },
    {
      "cell_type": "code",
      "metadata": {
        "id": "fuluPJsN0_bW",
        "colab_type": "code",
        "outputId": "f0012f65-6e74-455d-f437-e963e4a93d08",
        "colab": {
          "base_uri": "https://localhost:8080/",
          "height": 302
        }
      },
      "source": [
        "sns.lineplot(y=cs['Mean Capacity Factor'],x=cs['Tower Hub Height'])"
      ],
      "execution_count": 0,
      "outputs": [
        {
          "output_type": "execute_result",
          "data": {
            "text/plain": [
              "<matplotlib.axes._subplots.AxesSubplot at 0x7f83f844e518>"
            ]
          },
          "metadata": {
            "tags": []
          },
          "execution_count": 107
        },
        {
          "output_type": "display_data",
          "data": {
            "image/png": "[encoded data removed]",
            "text/plain": [
              "<Figure size 432x288 with 1 Axes>"
            ]
          },
          "metadata": {
            "tags": []
          }
        }
      ]
    },
    {
      "cell_type": "code",
      "metadata": {
        "id": "65Pq2T3V7z38",
        "colab_type": "code",
        "outputId": "cd938506-ffe8-4db2-c6cc-91eb25242c68",
        "colab": {
          "base_uri": "https://localhost:8080/",
          "height": 302
        }
      },
      "source": [
        "sns.lineplot(x=cn[\"Max Turbine Capacity\"],y=cn['Mean Capacity Factor'])"
      ],
      "execution_count": 0,
      "outputs": [
        {
          "output_type": "execute_result",
          "data": {
            "text/plain": [
              "<matplotlib.axes._subplots.AxesSubplot at 0x7f83f85c94e0>"
            ]
          },
          "metadata": {
            "tags": []
          },
          "execution_count": 108
        },
        {
          "output_type": "display_data",
          "data": {
            "image/png": "[encoded data removed]",
            "text/plain": [
              "<Figure size 432x288 with 1 Axes>"
            ]
          },
          "metadata": {
            "tags": []
          }
        }
      ]
    },
    {
      "cell_type": "code",
      "metadata": {
        "id": "UOT-B_WO6Z41",
        "colab_type": "code",
        "outputId": "fe8ca697-8605-404e-d3a6-455965ef0f22",
        "colab": {
          "base_uri": "https://localhost:8080/",
          "height": 302
        }
      },
      "source": [
        "sns.lineplot(y=cn['Mean Capacity Factor'],x=cn['Tower Hub Height'])"
      ],
      "execution_count": 0,
      "outputs": [
        {
          "output_type": "execute_result",
          "data": {
            "text/plain": [
              "<matplotlib.axes._subplots.AxesSubplot at 0x7f83f83d0828>"
            ]
          },
          "metadata": {
            "tags": []
          },
          "execution_count": 109
        },
        {
          "output_type": "display_data",
          "data": {
            "image/png": "[encoded data removed]",
            "text/plain": [
              "<Figure size 432x288 with 1 Axes>"
            ]
          },
          "metadata": {
            "tags": []
          }
        }
      ]
    },
    {
      "cell_type": "code",
      "metadata": {
        "id": "7B1rfxPO28sp",
        "colab_type": "code",
        "outputId": "7d8df1cc-fadf-453a-e8bc-232b888ca542",
        "colab": {
          "base_uri": "https://localhost:8080/",
          "height": 285
        }
      },
      "source": [
        "\n",
        "#Draws a scatter plot with the possibility of several semantic groupings. \n",
        "import seaborn as sns  \n",
        "sns.set()  \n",
        "  \n",
        "# Load the example iris dataset  \n",
        "planets = sns.load_dataset(\"planets\")  \n",
        "  \n",
        "cmap = sns.cubehelix_palette(rot=-.5, as_cmap=True)  \n",
        "ax = sns.scatterplot(y=cs['Mean Capacity Factor'], x=cs['Tower Hub Height'],  \n",
        "                      hue=cs['Rotor Diameter'],  \n",
        "                     palette=cmap, sizes=(100, 100),  \n",
        "                     data=cs)  "
      ],
      "execution_count": 0,
      "outputs": [
        {
          "output_type": "display_data",
          "data": {
            "image/png": "[encoded data removed]",
            "text/plain": [
              "<Figure size 432x288 with 1 Axes>"
            ]
          },
          "metadata": {
            "tags": []
          }
        }
      ]
    },
    {
      "cell_type": "code",
      "metadata": {
        "id": "gp6K_PVF3JYw",
        "colab_type": "code",
        "outputId": "c546c7f3-207c-4897-c175-fe03e0d43ca9",
        "colab": {
          "base_uri": "https://localhost:8080/",
          "height": 285
        }
      },
      "source": [
        "\n",
        "#Draws a scatter plot with the possibility of several semantic groupings. \n",
        "import seaborn as sns  \n",
        "sns.set()  \n",
        "  \n",
        "# Load the example iris dataset  \n",
        "#planets = sns.load_dataset(\"planets\")  \n",
        "  \n",
        "cmap = sns.cubehelix_palette(rot=-.5, as_cmap=True)  \n",
        "ax = sns.scatterplot(x=\"distance\", y=\"orbital_period\",  \n",
        "                     hue=\"year\", size=\"mass\",  \n",
        "                     palette=cmap, sizes=(100, 100),  \n",
        "                     data=planets)  "
      ],
      "execution_count": 0,
      "outputs": [
        {
          "output_type": "display_data",
          "data": {
            "image/png": "[encoded data removed]",
            "text/plain": [
              "<Figure size 432x288 with 1 Axes>"
            ]
          },
          "metadata": {
            "tags": []
          }
        }
      ]
    },
    {
      "cell_type": "markdown",
      "metadata": {
        "id": "No9QPydBgrkr",
        "colab_type": "text"
      },
      "source": [
        "====================================================================================\n"
      ]
    },
    {
      "cell_type": "markdown",
      "metadata": {
        "id": "DC2rFq1VgMEO",
        "colab_type": "text"
      },
      "source": [
        "**STATISTICS FOR ENTIRE DATABASE**"
      ]
    },
    {
      "cell_type": "markdown",
      "metadata": {
        "id": "Z9KYqQLqWqng",
        "colab_type": "text"
      },
      "source": [
        "MAX INDIVIDUAL TURBINE CAPACITY BY YEAR FOR ENTIRE DATABASE"
      ]
    },
    {
      "cell_type": "code",
      "metadata": {
        "id": "KA-hdR_IWyfn",
        "colab_type": "code",
        "outputId": "a8c3589a-260d-4f5f-eb9d-63a6772b6466",
        "colab": {
          "base_uri": "https://localhost:8080/",
          "height": 330
        }
      },
      "source": [
        "m=wind.groupby(\"Year Built\")['Max Turbine Capacity'].max()\n",
        "m.plot.bar()"
      ],
      "execution_count": 0,
      "outputs": [
        {
          "output_type": "execute_result",
          "data": {
            "text/plain": [
              "<matplotlib.axes._subplots.AxesSubplot at 0x7f83f7b52a90>"
            ]
          },
          "metadata": {
            "tags": []
          },
          "execution_count": 166
        },
        {
          "output_type": "display_data",
          "data": {
            "image/png": "[encoded data removed]",
            "text/plain": [
              "<Figure size 432x288 with 1 Axes>"
            ]
          },
          "metadata": {
            "tags": []
          }
        }
      ]
    },
    {
      "cell_type": "markdown",
      "metadata": {
        "id": "E7EeioNXrkH9",
        "colab_type": "text"
      },
      "source": [
        "MEAN TURBINE CAPACITY BY YEAR FOR ENTIRE DATABASE\n",
        "\n"
      ]
    },
    {
      "cell_type": "code",
      "metadata": {
        "id": "pQDmof1lrcNZ",
        "colab_type": "code",
        "outputId": "7f9041d6-5068-47ff-8175-a5ba40198a66",
        "colab": {
          "base_uri": "https://localhost:8080/",
          "height": 330
        }
      },
      "source": [
        "m=wind.groupby(\"Year Built\")['Max Turbine Capacity'].mean()\n",
        "m.plot.bar()"
      ],
      "execution_count": 0,
      "outputs": [
        {
          "output_type": "execute_result",
          "data": {
            "text/plain": [
              "<matplotlib.axes._subplots.AxesSubplot at 0x7f83f7a3f550>"
            ]
          },
          "metadata": {
            "tags": []
          },
          "execution_count": 177
        },
        {
          "output_type": "display_data",
          "data": {
            "image/png": "[encoded data removed]",
            "text/plain": [
              "<Figure size 432x288 with 1 Axes>"
            ]
          },
          "metadata": {
            "tags": []
          }
        }
      ]
    },
    {
      "cell_type": "markdown",
      "metadata": {
        "id": "ieZ3-BIgXEyp",
        "colab_type": "text"
      },
      "source": [
        "MAX INDIVIDUAL TURBINE HUB HEIGHT BY YEAR FOR ENTIRE DATABASE"
      ]
    },
    {
      "cell_type": "code",
      "metadata": {
        "id": "DRClei6-XKqb",
        "colab_type": "code",
        "outputId": "4b3b1ef1-2823-44fc-f2fa-1e05c9656d44",
        "colab": {
          "base_uri": "https://localhost:8080/",
          "height": 330
        }
      },
      "source": [
        "h=wind.groupby(\"Year Built\")['Tower Hub Height'].max()\n",
        "h.plot.bar()"
      ],
      "execution_count": 0,
      "outputs": [
        {
          "output_type": "execute_result",
          "data": {
            "text/plain": [
              "<matplotlib.axes._subplots.AxesSubplot at 0x7f83f818a710>"
            ]
          },
          "metadata": {
            "tags": []
          },
          "execution_count": 112
        },
        {
          "output_type": "display_data",
          "data": {
            "image/png": "[encoded data removed]",
            "text/plain": [
              "<Figure size 432x288 with 1 Axes>"
            ]
          },
          "metadata": {
            "tags": []
          }
        }
      ]
    },
    {
      "cell_type": "markdown",
      "metadata": {
        "id": "8a9mGfTYr9XE",
        "colab_type": "text"
      },
      "source": [
        "MEAN TURBINE HUB HEIGHT BY YEAR FOR ENTIRE DATABASE"
      ]
    },
    {
      "cell_type": "code",
      "metadata": {
        "id": "PQmb64GNrv_R",
        "colab_type": "code",
        "outputId": "683b5105-7846-4828-ae1e-5631ab846bb3",
        "colab": {
          "base_uri": "https://localhost:8080/",
          "height": 330
        }
      },
      "source": [
        "h=wind.groupby(\"Year Built\")['Tower Hub Height'].mean()\n",
        "h.plot.bar()"
      ],
      "execution_count": 0,
      "outputs": [
        {
          "output_type": "execute_result",
          "data": {
            "text/plain": [
              "<matplotlib.axes._subplots.AxesSubplot at 0x7f83f7908ba8>"
            ]
          },
          "metadata": {
            "tags": []
          },
          "execution_count": 178
        },
        {
          "output_type": "display_data",
          "data": {
            "image/png": "[encoded data removed]",
            "text/plain": [
              "<Figure size 432x288 with 1 Axes>"
            ]
          },
          "metadata": {
            "tags": []
          }
        }
      ]
    },
    {
      "cell_type": "markdown",
      "metadata": {
        "id": "iyanWrgzlMBC",
        "colab_type": "text"
      },
      "source": [
        "\n",
        "HISTOGRAM OF MAX POWER FOR ALL 60,576 TURBINES"
      ]
    },
    {
      "cell_type": "code",
      "metadata": {
        "id": "iuG3-xGklin_",
        "colab_type": "code",
        "outputId": "3c36607b-e84b-4a2e-d7f7-433fae0b9787",
        "colab": {
          "base_uri": "https://localhost:8080/",
          "height": 419
        }
      },
      "source": [
        "plt.hist(wind['Max Turbine Capacity'], alpha = .5,color='b')"
      ],
      "execution_count": 0,
      "outputs": [
        {
          "output_type": "stream",
          "text": [
            "/usr/local/lib/python3.6/dist-packages/numpy/lib/histograms.py:839: RuntimeWarning: invalid value encountered in greater_equal\n",
            "  keep = (tmp_a >= first_edge)\n",
            "/usr/local/lib/python3.6/dist-packages/numpy/lib/histograms.py:840: RuntimeWarning: invalid value encountered in less_equal\n",
            "  keep &= (tmp_a <= last_edge)\n"
          ],
          "name": "stderr"
        },
        {
          "output_type": "execute_result",
          "data": {
            "text/plain": [
              "(array([3.8250e+03, 4.7660e+03, 2.3791e+04, 1.8451e+04, 4.2540e+03,\n",
              "        1.4390e+03, 0.0000e+00, 0.0000e+00, 0.0000e+00, 5.0000e+00]),\n",
              " array([  50.,  645., 1240., 1835., 2430., 3025., 3620., 4215., 4810.,\n",
              "        5405., 6000.]),\n",
              " <a list of 10 Patch objects>)"
            ]
          },
          "metadata": {
            "tags": []
          },
          "execution_count": 113
        },
        {
          "output_type": "display_data",
          "data": {
            "image/png": "[encoded data removed]",
            "text/plain": [
              "<Figure size 432x288 with 1 Axes>"
            ]
          },
          "metadata": {
            "tags": []
          }
        }
      ]
    },
    {
      "cell_type": "markdown",
      "metadata": {
        "id": "JaCl32sJZeB5",
        "colab_type": "text"
      },
      "source": [
        "WEAKNESSES"
      ]
    },
    {
      "cell_type": "markdown",
      "metadata": {
        "id": "N9NuDX5YZiWe",
        "colab_type": "text"
      },
      "source": [
        "WORKING WITH THIS EXTREMELY SMALL SAMPLE SIZE MAY LEAD ONE TO QUESTION THE LEAP FROM SAMPLE TO POPULATION\n",
        "\n",
        "USING ONLY ONE DRAW FROM EACH SECTION LIMITS ACCURACY\n",
        "\n",
        "A SIGNIFICANT IMPROBVEMENT WOULD BE REALIZED IF WE COMPUTED THE MEAN CAPACITY FACOR FOR ALL 60,507 TURBINES IN THE DATABASE -- THEN WE WOULD NOT NEED TO SAMPLE\n"
      ]
    }
  ]
}